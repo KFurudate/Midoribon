{
  "nbformat": 4,
  "nbformat_minor": 0,
  "metadata": {
    "colab": {
      "name": "chap3.ipynb",
      "provenance": [],
      "authorship_tag": "ABX9TyPz3sY8O0dblKmKMwBj2AJd",
      "include_colab_link": true
    },
    "kernelspec": {
      "name": "python3",
      "display_name": "Python 3"
    }
  },
  "cells": [
    {
      "cell_type": "markdown",
      "metadata": {
        "id": "view-in-github",
        "colab_type": "text"
      },
      "source": [
        "<a href=\"https://colab.research.google.com/github/KFurudate/Midoribon/blob/main/chap3.ipynb\" target=\"_parent\"><img src=\"https://colab.research.google.com/assets/colab-badge.svg\" alt=\"Open In Colab\"/></a>"
      ]
    },
    {
      "cell_type": "markdown",
      "metadata": {
        "id": "FkTVp0-umkva"
      },
      "source": [
        "# 第3章 一般線形モデル(GLM) -ポアソン回帰-"
      ]
    },
    {
      "cell_type": "code",
      "metadata": {
        "id": "e49aWS7Pmgij",
        "outputId": "74aa5f96-971a-4721-8257-a3dfa02a6c2e",
        "colab": {
          "base_uri": "https://localhost:8080/",
          "height": 34
        }
      },
      "source": [
        "from google.colab import drive\n",
        "drive.mount('/content/drive')"
      ],
      "execution_count": 1,
      "outputs": [
        {
          "output_type": "stream",
          "text": [
            "Mounted at /content/drive\n"
          ],
          "name": "stdout"
        }
      ]
    },
    {
      "cell_type": "code",
      "metadata": {
        "id": "3uQTW_t9mnkr"
      },
      "source": [
        "import os\n",
        "import numpy as np\n",
        "import pandas as pd\n",
        "import matplotlib.pyplot as plt\n",
        "import seaborn as sns\n",
        "from scipy import stats\n",
        "%matplotlib inline"
      ],
      "execution_count": 18,
      "outputs": []
    },
    {
      "cell_type": "code",
      "metadata": {
        "id": "iSpFM9bGmtI6"
      },
      "source": [
        "data_dir = \"/content/drive/My Drive/Midoribon/input/\"\n",
        "data =  pd.read_csv(os.path.join(data_dir, 'chap3_data.csv'))"
      ],
      "execution_count": 4,
      "outputs": []
    },
    {
      "cell_type": "code",
      "metadata": {
        "id": "Q_BGOPA8mwSa",
        "outputId": "9579545c-7a7d-4a97-db62-1bd24b58c1e8",
        "colab": {
          "base_uri": "https://localhost:8080/",
          "height": 207
        }
      },
      "source": [
        "print(len(data))\n",
        "data.head()"
      ],
      "execution_count": 5,
      "outputs": [
        {
          "output_type": "stream",
          "text": [
            "100\n"
          ],
          "name": "stdout"
        },
        {
          "output_type": "execute_result",
          "data": {
            "text/html": [
              "<div>\n",
              "<style scoped>\n",
              "    .dataframe tbody tr th:only-of-type {\n",
              "        vertical-align: middle;\n",
              "    }\n",
              "\n",
              "    .dataframe tbody tr th {\n",
              "        vertical-align: top;\n",
              "    }\n",
              "\n",
              "    .dataframe thead th {\n",
              "        text-align: right;\n",
              "    }\n",
              "</style>\n",
              "<table border=\"1\" class=\"dataframe\">\n",
              "  <thead>\n",
              "    <tr style=\"text-align: right;\">\n",
              "      <th></th>\n",
              "      <th>y</th>\n",
              "      <th>x</th>\n",
              "      <th>f</th>\n",
              "    </tr>\n",
              "  </thead>\n",
              "  <tbody>\n",
              "    <tr>\n",
              "      <th>0</th>\n",
              "      <td>6</td>\n",
              "      <td>8.31</td>\n",
              "      <td>C</td>\n",
              "    </tr>\n",
              "    <tr>\n",
              "      <th>1</th>\n",
              "      <td>6</td>\n",
              "      <td>9.44</td>\n",
              "      <td>C</td>\n",
              "    </tr>\n",
              "    <tr>\n",
              "      <th>2</th>\n",
              "      <td>6</td>\n",
              "      <td>9.50</td>\n",
              "      <td>C</td>\n",
              "    </tr>\n",
              "    <tr>\n",
              "      <th>3</th>\n",
              "      <td>12</td>\n",
              "      <td>9.07</td>\n",
              "      <td>C</td>\n",
              "    </tr>\n",
              "    <tr>\n",
              "      <th>4</th>\n",
              "      <td>10</td>\n",
              "      <td>10.16</td>\n",
              "      <td>C</td>\n",
              "    </tr>\n",
              "  </tbody>\n",
              "</table>\n",
              "</div>"
            ],
            "text/plain": [
              "    y      x  f\n",
              "0   6   8.31  C\n",
              "1   6   9.44  C\n",
              "2   6   9.50  C\n",
              "3  12   9.07  C\n",
              "4  10  10.16  C"
            ]
          },
          "metadata": {
            "tags": []
          },
          "execution_count": 5
        }
      ]
    },
    {
      "cell_type": "code",
      "metadata": {
        "id": "PNVr1EBYmz6m",
        "outputId": "1b91711f-cc51-4b10-d7ca-28a119394f69",
        "colab": {
          "base_uri": "https://localhost:8080/",
          "height": 274
        }
      },
      "source": [
        "data.describe()"
      ],
      "execution_count": 6,
      "outputs": [
        {
          "output_type": "execute_result",
          "data": {
            "text/html": [
              "<div>\n",
              "<style scoped>\n",
              "    .dataframe tbody tr th:only-of-type {\n",
              "        vertical-align: middle;\n",
              "    }\n",
              "\n",
              "    .dataframe tbody tr th {\n",
              "        vertical-align: top;\n",
              "    }\n",
              "\n",
              "    .dataframe thead th {\n",
              "        text-align: right;\n",
              "    }\n",
              "</style>\n",
              "<table border=\"1\" class=\"dataframe\">\n",
              "  <thead>\n",
              "    <tr style=\"text-align: right;\">\n",
              "      <th></th>\n",
              "      <th>y</th>\n",
              "      <th>x</th>\n",
              "    </tr>\n",
              "  </thead>\n",
              "  <tbody>\n",
              "    <tr>\n",
              "      <th>count</th>\n",
              "      <td>100.000000</td>\n",
              "      <td>100.000000</td>\n",
              "    </tr>\n",
              "    <tr>\n",
              "      <th>mean</th>\n",
              "      <td>7.830000</td>\n",
              "      <td>10.089100</td>\n",
              "    </tr>\n",
              "    <tr>\n",
              "      <th>std</th>\n",
              "      <td>2.624881</td>\n",
              "      <td>1.008049</td>\n",
              "    </tr>\n",
              "    <tr>\n",
              "      <th>min</th>\n",
              "      <td>2.000000</td>\n",
              "      <td>7.190000</td>\n",
              "    </tr>\n",
              "    <tr>\n",
              "      <th>25%</th>\n",
              "      <td>6.000000</td>\n",
              "      <td>9.427500</td>\n",
              "    </tr>\n",
              "    <tr>\n",
              "      <th>50%</th>\n",
              "      <td>8.000000</td>\n",
              "      <td>10.155000</td>\n",
              "    </tr>\n",
              "    <tr>\n",
              "      <th>75%</th>\n",
              "      <td>10.000000</td>\n",
              "      <td>10.685000</td>\n",
              "    </tr>\n",
              "    <tr>\n",
              "      <th>max</th>\n",
              "      <td>15.000000</td>\n",
              "      <td>12.400000</td>\n",
              "    </tr>\n",
              "  </tbody>\n",
              "</table>\n",
              "</div>"
            ],
            "text/plain": [
              "                y           x\n",
              "count  100.000000  100.000000\n",
              "mean     7.830000   10.089100\n",
              "std      2.624881    1.008049\n",
              "min      2.000000    7.190000\n",
              "25%      6.000000    9.427500\n",
              "50%      8.000000   10.155000\n",
              "75%     10.000000   10.685000\n",
              "max     15.000000   12.400000"
            ]
          },
          "metadata": {
            "tags": []
          },
          "execution_count": 6
        }
      ]
    },
    {
      "cell_type": "code",
      "metadata": {
        "id": "jVMXVAhzm16f",
        "outputId": "3abddb1e-3642-4c6e-e136-d7143ae4069f",
        "colab": {
          "base_uri": "https://localhost:8080/",
          "height": 232
        }
      },
      "source": [
        "print(data.f)"
      ],
      "execution_count": 7,
      "outputs": [
        {
          "output_type": "stream",
          "text": [
            "0     C\n",
            "1     C\n",
            "2     C\n",
            "3     C\n",
            "4     C\n",
            "     ..\n",
            "95    T\n",
            "96    T\n",
            "97    T\n",
            "98    T\n",
            "99    T\n",
            "Name: f, Length: 100, dtype: object\n"
          ],
          "name": "stdout"
        }
      ]
    },
    {
      "cell_type": "code",
      "metadata": {
        "id": "YDJMlR3xtUQN",
        "outputId": "15b59236-71fe-46af-91fb-d8d139e8529b",
        "colab": {
          "base_uri": "https://localhost:8080/",
          "height": 279
        }
      },
      "source": [
        "sns.scatterplot(x='x', y='y', hue='f', data=data)\n",
        "plt.show()"
      ],
      "execution_count": 20,
      "outputs": [
        {
          "output_type": "display_data",
          "data": {
            "image/png": "[encoded data removed]",
            "text/plain": [
              "<Figure size 432x288 with 1 Axes>"
            ]
          },
          "metadata": {
            "tags": [],
            "needs_background": "light"
          }
        }
      ]
    },
    {
      "cell_type": "code",
      "metadata": {
        "id": "iWWV0g3UsMWk",
        "outputId": "74ef0ed4-8861-40d3-c775-dec69128dfe7",
        "colab": {
          "base_uri": "https://localhost:8080/",
          "height": 279
        }
      },
      "source": [
        "sns.boxplot(x='f', y='y', data=data)\n",
        "plt.show()"
      ],
      "execution_count": 24,
      "outputs": [
        {
          "output_type": "display_data",
          "data": {
            "image/png": "[encoded data removed]",
            "text/plain": [
              "<Figure size 432x288 with 1 Axes>"
            ]
          },
          "metadata": {
            "tags": [],
            "needs_background": "light"
          }
        }
      ]
    },
    {
      "cell_type": "markdown",
      "metadata": {
        "id": "1aVFu-Rmt1Ls"
      },
      "source": [
        "### ポアソン回帰の統計モデル\n",
        "\n",
        "ポアソン回帰とは、観測データにポアソン分布を使った統計モデルをあてはめ（fitting)、対数尤度が最大になるパラメーターの推定量を決めること。\n"
      ]
    },
    {
      "cell_type": "markdown",
      "metadata": {
        "id": "nDxE1tKR2e5b"
      },
      "source": [
        "個体iの体サイズ xi に依存する統計モデル。\n",
        "説明変数はxi、応答変数は*yi*である。\n",
        "\n",
        "ある個体iにおいて、種子数が*yi*である確率 *Pr(yi | λi)* はポアソン分布にしたがっていると仮定する。\n",
        "\n",
        "ある個体iの平均種子数 *λi* が\n",
        "\n",
        "*λi* = exp(β1+ β2*xi*)\n",
        "\n",
        "とすると、β1(intercept)やβ2(slope)をパラメーターとよぶ(coefficentとよぶ場合もある)。\n"
      ]
    },
    {
      "cell_type": "code",
      "metadata": {
        "id": "MU-SSsYhtg9m"
      },
      "source": [
        "# 切片β1lと 傾きβ2の最尤推定値\n",
        "import statsmodels.api as sm\n",
        "import statsmodels.formula.api as smf\n",
        "model = smf.glm('y ~ x', data=data, family=sm.families.Poisson())"
      ],
      "execution_count": 28,
      "outputs": []
    },
    {
      "cell_type": "code",
      "metadata": {
        "id": "gBU--cQp6ucm",
        "outputId": "2ad73369-152a-4978-e782-c87b1bc30056",
        "colab": {
          "base_uri": "https://localhost:8080/",
          "height": 252
        }
      },
      "source": [
        "result = model.fit()\n",
        "result.summary()"
      ],
      "execution_count": 29,
      "outputs": [
        {
          "output_type": "execute_result",
          "data": {
            "text/html": [
              "<table class=\"simpletable\">\n",
              "<caption>Generalized Linear Model Regression Results</caption>\n",
              "<tr>\n",
              "  <th>Dep. Variable:</th>           <td>y</td>        <th>  No. Observations:  </th>  <td>   100</td> \n",
              "</tr>\n",
              "<tr>\n",
              "  <th>Model:</th>                  <td>GLM</td>       <th>  Df Residuals:      </th>  <td>    98</td> \n",
              "</tr>\n",
              "<tr>\n",
              "  <th>Model Family:</th>         <td>Poisson</td>     <th>  Df Model:          </th>  <td>     1</td> \n",
              "</tr>\n",
              "<tr>\n",
              "  <th>Link Function:</th>          <td>log</td>       <th>  Scale:             </th> <td>  1.0000</td>\n",
              "</tr>\n",
              "<tr>\n",
              "  <th>Method:</th>                <td>IRLS</td>       <th>  Log-Likelihood:    </th> <td> -235.39</td>\n",
              "</tr>\n",
              "<tr>\n",
              "  <th>Date:</th>            <td>Sat, 03 Oct 2020</td> <th>  Deviance:          </th> <td>  84.993</td>\n",
              "</tr>\n",
              "<tr>\n",
              "  <th>Time:</th>                <td>19:26:33</td>     <th>  Pearson chi2:      </th>  <td>  83.8</td> \n",
              "</tr>\n",
              "<tr>\n",
              "  <th>No. Iterations:</th>          <td>4</td>        <th>                     </th>     <td> </td>   \n",
              "</tr>\n",
              "<tr>\n",
              "  <th>Covariance Type:</th>     <td>nonrobust</td>    <th>                     </th>     <td> </td>   \n",
              "</tr>\n",
              "</table>\n",
              "<table class=\"simpletable\">\n",
              "<tr>\n",
              "      <td></td>         <th>coef</th>     <th>std err</th>      <th>z</th>      <th>P>|z|</th>  <th>[0.025</th>    <th>0.975]</th>  \n",
              "</tr>\n",
              "<tr>\n",
              "  <th>Intercept</th> <td>    1.2917</td> <td>    0.364</td> <td>    3.552</td> <td> 0.000</td> <td>    0.579</td> <td>    2.005</td>\n",
              "</tr>\n",
              "<tr>\n",
              "  <th>x</th>         <td>    0.0757</td> <td>    0.036</td> <td>    2.125</td> <td> 0.034</td> <td>    0.006</td> <td>    0.145</td>\n",
              "</tr>\n",
              "</table>"
            ],
            "text/plain": [
              "<class 'statsmodels.iolib.summary.Summary'>\n",
              "\"\"\"\n",
              "                 Generalized Linear Model Regression Results                  \n",
              "==============================================================================\n",
              "Dep. Variable:                      y   No. Observations:                  100\n",
              "Model:                            GLM   Df Residuals:                       98\n",
              "Model Family:                 Poisson   Df Model:                            1\n",
              "Link Function:                    log   Scale:                          1.0000\n",
              "Method:                          IRLS   Log-Likelihood:                -235.39\n",
              "Date:                Sat, 03 Oct 2020   Deviance:                       84.993\n",
              "Time:                        19:26:33   Pearson chi2:                     83.8\n",
              "No. Iterations:                     4                                         \n",
              "Covariance Type:            nonrobust                                         \n",
              "==============================================================================\n",
              "                 coef    std err          z      P>|z|      [0.025      0.975]\n",
              "------------------------------------------------------------------------------\n",
              "Intercept      1.2917      0.364      3.552      0.000       0.579       2.005\n",
              "x              0.0757      0.036      2.125      0.034       0.006       0.145\n",
              "==============================================================================\n",
              "\"\"\""
            ]
          },
          "metadata": {
            "tags": []
          },
          "execution_count": 29
        }
      ]
    },
    {
      "cell_type": "code",
      "metadata": {
        "id": "2R7Wd0Ev7ymM"
      },
      "source": [
        "# Parameter(coefficent)\n",
        "# intercept\n",
        "β1 = 1.2917\n",
        "\n",
        "# slope\n",
        "β2 = 0.0757"
      ],
      "execution_count": 35,
      "outputs": []
    },
    {
      "cell_type": "code",
      "metadata": {
        "id": "AF18zmRi9Lvo",
        "outputId": "d0bec2c1-a042-4d0c-b9db-8769c38e237b",
        "colab": {
          "base_uri": "https://localhost:8080/",
          "height": 279
        }
      },
      "source": [
        "sns.scatterplot(x='x', y='y', hue='f', data=data)\n",
        "\n",
        "# ポアソン回帰モデルによる平均種子数λiの予測 \n",
        "# λi = exp(β1+ β2xi)\n",
        "x = np.linspace(7, 13)\n",
        "y = np.exp(β1 + x*β2)\n",
        "plt.plot(x, y, \"r--\")\n",
        "\n",
        "plt.show()"
      ],
      "execution_count": 40,
      "outputs": [
        {
          "output_type": "display_data",
          "data": {
            "image/png": "[encoded data removed]",
            "text/plain": [
              "<Figure size 432x288 with 1 Axes>"
            ]
          },
          "metadata": {
            "tags": [],
            "needs_background": "light"
          }
        }
      ]
    },
    {
      "cell_type": "markdown",
      "metadata": {
        "id": "4t5M24FBAET7"
      },
      "source": [
        "説明変数にカテゴリカル変数*fi*を同時に組み込んだ統計モデル。\n",
        "\n",
        "*λi = exp(β1 + β2xi + β3di)*\n",
        "\n",
        "diはカテゴリカル変数*fi*をダミー変数化したもの。\n"
      ]
    },
    {
      "cell_type": "code",
      "metadata": {
        "id": "rchljnSE9oQa",
        "outputId": "13314e31-dfa4-47fc-d8fd-f11e7176bd3b",
        "colab": {
          "base_uri": "https://localhost:8080/",
          "height": 324
        }
      },
      "source": [
        "#対数リンク関数(logλi = β1 + β2xi + β3di) を選択\n",
        "link = sm.genmod.families.links.log\n",
        "model = smf.glm('y ~ x + f', data=data, family=sm.families.Poisson(link=link))\n",
        "result = model.fit()\n",
        "result.summary()"
      ],
      "execution_count": 105,
      "outputs": [
        {
          "output_type": "stream",
          "text": [
            "/usr/local/lib/python3.6/dist-packages/ipykernel_launcher.py:3: DeprecationWarning: Calling Family(..) with a link class as argument is deprecated.\n",
            "Use an instance of a link class instead.\n",
            "  This is separate from the ipykernel package so we can avoid doing imports until\n"
          ],
          "name": "stderr"
        },
        {
          "output_type": "execute_result",
          "data": {
            "text/html": [
              "<table class=\"simpletable\">\n",
              "<caption>Generalized Linear Model Regression Results</caption>\n",
              "<tr>\n",
              "  <th>Dep. Variable:</th>           <td>y</td>        <th>  No. Observations:  </th>  <td>   100</td> \n",
              "</tr>\n",
              "<tr>\n",
              "  <th>Model:</th>                  <td>GLM</td>       <th>  Df Residuals:      </th>  <td>    97</td> \n",
              "</tr>\n",
              "<tr>\n",
              "  <th>Model Family:</th>         <td>Poisson</td>     <th>  Df Model:          </th>  <td>     2</td> \n",
              "</tr>\n",
              "<tr>\n",
              "  <th>Link Function:</th>          <td>log</td>       <th>  Scale:             </th> <td>  1.0000</td>\n",
              "</tr>\n",
              "<tr>\n",
              "  <th>Method:</th>                <td>IRLS</td>       <th>  Log-Likelihood:    </th> <td> -235.29</td>\n",
              "</tr>\n",
              "<tr>\n",
              "  <th>Date:</th>            <td>Sat, 03 Oct 2020</td> <th>  Deviance:          </th> <td>  84.808</td>\n",
              "</tr>\n",
              "<tr>\n",
              "  <th>Time:</th>                <td>20:43:00</td>     <th>  Pearson chi2:      </th>  <td>  83.8</td> \n",
              "</tr>\n",
              "<tr>\n",
              "  <th>No. Iterations:</th>          <td>4</td>        <th>                     </th>     <td> </td>   \n",
              "</tr>\n",
              "<tr>\n",
              "  <th>Covariance Type:</th>     <td>nonrobust</td>    <th>                     </th>     <td> </td>   \n",
              "</tr>\n",
              "</table>\n",
              "<table class=\"simpletable\">\n",
              "<tr>\n",
              "      <td></td>         <th>coef</th>     <th>std err</th>      <th>z</th>      <th>P>|z|</th>  <th>[0.025</th>    <th>0.975]</th>  \n",
              "</tr>\n",
              "<tr>\n",
              "  <th>Intercept</th> <td>    1.2631</td> <td>    0.370</td> <td>    3.417</td> <td> 0.001</td> <td>    0.539</td> <td>    1.988</td>\n",
              "</tr>\n",
              "<tr>\n",
              "  <th>f[T.T]</th>    <td>   -0.0320</td> <td>    0.074</td> <td>   -0.430</td> <td> 0.667</td> <td>   -0.178</td> <td>    0.114</td>\n",
              "</tr>\n",
              "<tr>\n",
              "  <th>x</th>         <td>    0.0801</td> <td>    0.037</td> <td>    2.162</td> <td> 0.031</td> <td>    0.007</td> <td>    0.153</td>\n",
              "</tr>\n",
              "</table>"
            ],
            "text/plain": [
              "<class 'statsmodels.iolib.summary.Summary'>\n",
              "\"\"\"\n",
              "                 Generalized Linear Model Regression Results                  \n",
              "==============================================================================\n",
              "Dep. Variable:                      y   No. Observations:                  100\n",
              "Model:                            GLM   Df Residuals:                       97\n",
              "Model Family:                 Poisson   Df Model:                            2\n",
              "Link Function:                    log   Scale:                          1.0000\n",
              "Method:                          IRLS   Log-Likelihood:                -235.29\n",
              "Date:                Sat, 03 Oct 2020   Deviance:                       84.808\n",
              "Time:                        20:43:00   Pearson chi2:                     83.8\n",
              "No. Iterations:                     4                                         \n",
              "Covariance Type:            nonrobust                                         \n",
              "==============================================================================\n",
              "                 coef    std err          z      P>|z|      [0.025      0.975]\n",
              "------------------------------------------------------------------------------\n",
              "Intercept      1.2631      0.370      3.417      0.001       0.539       1.988\n",
              "f[T.T]        -0.0320      0.074     -0.430      0.667      -0.178       0.114\n",
              "x              0.0801      0.037      2.162      0.031       0.007       0.153\n",
              "==============================================================================\n",
              "\"\"\""
            ]
          },
          "metadata": {
            "tags": []
          },
          "execution_count": 105
        }
      ]
    },
    {
      "cell_type": "code",
      "metadata": {
        "id": "_-x0sfFyBOsD"
      },
      "source": [
        "# Parameter(coefficent)\n",
        "# intercept\n",
        "β1 = 1.2631\n",
        "\n",
        "# slope\n",
        "β2 = 0.0801\n",
        "\n",
        "# f\n",
        "β3 = -0.0320"
      ],
      "execution_count": 106,
      "outputs": []
    },
    {
      "cell_type": "code",
      "metadata": {
        "id": "qYNmHAKXHsBV",
        "outputId": "416d48c0-03c4-4e9c-e8ba-b3ed91381b23",
        "colab": {
          "base_uri": "https://localhost:8080/",
          "height": 267
        }
      },
      "source": [
        "# ポアソン回帰モデルによる平均種子数λiの予測 \n",
        "# λi = exp(β1+ β2xi + β3di)\n",
        "x = np.linspace(7, 20)\n",
        "y = np.exp(β1 + x*β2 + 3*β3)\n",
        "plt.plot(x, y, \"r--\")\n",
        "\n",
        "y = np.exp(β1 + x*β2)\n",
        "plt.plot(x, y, \"o--\")\n",
        "\n",
        "plt.show()"
      ],
      "execution_count": 108,
      "outputs": [
        {
          "output_type": "display_data",
          "data": {
            "image/png": "[encoded data removed]",
            "text/plain": [
              "<Figure size 432x288 with 1 Axes>"
            ]
          },
          "metadata": {
            "tags": [],
            "needs_background": "light"
          }
        }
      ]
    },
    {
      "cell_type": "code",
      "metadata": {
        "id": "Qf6bZJWnF6jJ",
        "outputId": "489fe0fe-b4ba-4a53-8527-03f41787cedf",
        "colab": {
          "base_uri": "https://localhost:8080/",
          "height": 380
        }
      },
      "source": [
        "# 恒等リンク関数\n",
        "link = sm.genmod.families.links.identity\n",
        "model = smf.glm('y ~ x + f', data=data, family=sm.families.Poisson(link=link))\n",
        "result = model.fit()\n",
        "result.summary()"
      ],
      "execution_count": 109,
      "outputs": [
        {
          "output_type": "stream",
          "text": [
            "/usr/local/lib/python3.6/dist-packages/ipykernel_launcher.py:3: DeprecationWarning: Calling Family(..) with a link class as argument is deprecated.\n",
            "Use an instance of a link class instead.\n",
            "  This is separate from the ipykernel package so we can avoid doing imports until\n",
            "/usr/local/lib/python3.6/dist-packages/statsmodels/genmod/generalized_linear_model.py:273: DomainWarning: The identity link function does not respect the domain of the Poisson family.\n",
            "  DomainWarning)\n"
          ],
          "name": "stderr"
        },
        {
          "output_type": "execute_result",
          "data": {
            "text/html": [
              "<table class=\"simpletable\">\n",
              "<caption>Generalized Linear Model Regression Results</caption>\n",
              "<tr>\n",
              "  <th>Dep. Variable:</th>           <td>y</td>        <th>  No. Observations:  </th>  <td>   100</td> \n",
              "</tr>\n",
              "<tr>\n",
              "  <th>Model:</th>                  <td>GLM</td>       <th>  Df Residuals:      </th>  <td>    97</td> \n",
              "</tr>\n",
              "<tr>\n",
              "  <th>Model Family:</th>         <td>Poisson</td>     <th>  Df Model:          </th>  <td>     2</td> \n",
              "</tr>\n",
              "<tr>\n",
              "  <th>Link Function:</th>       <td>identity</td>     <th>  Scale:             </th> <td>  1.0000</td>\n",
              "</tr>\n",
              "<tr>\n",
              "  <th>Method:</th>                <td>IRLS</td>       <th>  Log-Likelihood:    </th> <td> -235.16</td>\n",
              "</tr>\n",
              "<tr>\n",
              "  <th>Date:</th>            <td>Sat, 03 Oct 2020</td> <th>  Deviance:          </th> <td>  84.538</td>\n",
              "</tr>\n",
              "<tr>\n",
              "  <th>Time:</th>                <td>20:44:48</td>     <th>  Pearson chi2:      </th>  <td>  83.6</td> \n",
              "</tr>\n",
              "<tr>\n",
              "  <th>No. Iterations:</th>          <td>5</td>        <th>                     </th>     <td> </td>   \n",
              "</tr>\n",
              "<tr>\n",
              "  <th>Covariance Type:</th>     <td>nonrobust</td>    <th>                     </th>     <td> </td>   \n",
              "</tr>\n",
              "</table>\n",
              "<table class=\"simpletable\">\n",
              "<tr>\n",
              "      <td></td>         <th>coef</th>     <th>std err</th>      <th>z</th>      <th>P>|z|</th>  <th>[0.025</th>    <th>0.975]</th>  \n",
              "</tr>\n",
              "<tr>\n",
              "  <th>Intercept</th> <td>    1.2671</td> <td>    2.843</td> <td>    0.446</td> <td> 0.656</td> <td>   -4.306</td> <td>    6.840</td>\n",
              "</tr>\n",
              "<tr>\n",
              "  <th>f[T.T]</th>    <td>   -0.2048</td> <td>    0.582</td> <td>   -0.352</td> <td> 0.725</td> <td>   -1.346</td> <td>    0.936</td>\n",
              "</tr>\n",
              "<tr>\n",
              "  <th>x</th>         <td>    0.6606</td> <td>    0.290</td> <td>    2.281</td> <td> 0.023</td> <td>    0.093</td> <td>    1.228</td>\n",
              "</tr>\n",
              "</table>"
            ],
            "text/plain": [
              "<class 'statsmodels.iolib.summary.Summary'>\n",
              "\"\"\"\n",
              "                 Generalized Linear Model Regression Results                  \n",
              "==============================================================================\n",
              "Dep. Variable:                      y   No. Observations:                  100\n",
              "Model:                            GLM   Df Residuals:                       97\n",
              "Model Family:                 Poisson   Df Model:                            2\n",
              "Link Function:               identity   Scale:                          1.0000\n",
              "Method:                          IRLS   Log-Likelihood:                -235.16\n",
              "Date:                Sat, 03 Oct 2020   Deviance:                       84.538\n",
              "Time:                        20:44:48   Pearson chi2:                     83.6\n",
              "No. Iterations:                     5                                         \n",
              "Covariance Type:            nonrobust                                         \n",
              "==============================================================================\n",
              "                 coef    std err          z      P>|z|      [0.025      0.975]\n",
              "------------------------------------------------------------------------------\n",
              "Intercept      1.2671      2.843      0.446      0.656      -4.306       6.840\n",
              "f[T.T]        -0.2048      0.582     -0.352      0.725      -1.346       0.936\n",
              "x              0.6606      0.290      2.281      0.023       0.093       1.228\n",
              "==============================================================================\n",
              "\"\"\""
            ]
          },
          "metadata": {
            "tags": []
          },
          "execution_count": 109
        }
      ]
    },
    {
      "cell_type": "code",
      "metadata": {
        "id": "XWmgej1SGael"
      },
      "source": [
        "# Parameter(coefficent)\n",
        "# intercept\n",
        "β1 = 1.2671\n",
        "\n",
        "# slope\n",
        "β2 = 0.6606\n",
        "\n",
        "# f\n",
        "β3 = -0.2048"
      ],
      "execution_count": 111,
      "outputs": []
    },
    {
      "cell_type": "code",
      "metadata": {
        "id": "cSre0zqKCF0U",
        "outputId": "44654dac-bc90-45b8-81e5-5602bd35dbf6",
        "colab": {
          "base_uri": "https://localhost:8080/",
          "height": 265
        }
      },
      "source": [
        "# ポアソン回帰モデルによる平均種子数λiの予測 \n",
        "# λi = β1+ β2xi + β3di\n",
        "x = np.linspace(7, 20)\n",
        "y = β1 + x*β2 + 3*β3\n",
        "plt.plot(x, y, \"r--\")\n",
        "\n",
        "y = β1 + x*β2\n",
        "plt.plot(x, y, \"o--\")\n",
        "\n",
        "plt.show()"
      ],
      "execution_count": 114,
      "outputs": [
        {
          "output_type": "display_data",
          "data": {
            "image/png": "[encoded data removed]",
            "text/plain": [
              "<Figure size 432x288 with 1 Axes>"
            ]
          },
          "metadata": {
            "tags": [],
            "needs_background": "light"
          }
        }
      ]
    },
    {
      "cell_type": "code",
      "metadata": {
        "id": "WMBjGSlVCTpL"
      },
      "source": [
        ""
      ],
      "execution_count": null,
      "outputs": []
    }
  ]
}