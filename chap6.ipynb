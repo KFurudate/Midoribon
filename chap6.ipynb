{
  "nbformat": 4,
  "nbformat_minor": 0,
  "metadata": {
    "colab": {
      "name": "chap6.ipynb",
      "provenance": [],
      "authorship_tag": "ABX9TyN/xv9rzmfQcQoWDYhLy+6U",
      "include_colab_link": true
    },
    "kernelspec": {
      "name": "python3",
      "display_name": "Python 3"
    }
  },
  "cells": [
    {
      "cell_type": "markdown",
      "metadata": {
        "id": "view-in-github",
        "colab_type": "text"
      },
      "source": [
        "<a href=\"https://colab.research.google.com/github/KFurudate/Midoribon/blob/main/chap6.ipynb\" target=\"_parent\"><img src=\"https://colab.research.google.com/assets/colab-badge.svg\" alt=\"Open In Colab\"/></a>"
      ]
    },
    {
      "cell_type": "markdown",
      "metadata": {
        "id": "FkTVp0-umkva"
      },
      "source": [
        "# 第6章 GLMの応用範囲をひろげる -ロジスティック回帰など-\n"
      ]
    },
    {
      "cell_type": "code",
      "metadata": {
        "id": "e49aWS7Pmgij",
        "outputId": "755db96f-baa1-4be3-f5cf-1e80935d027f",
        "colab": {
          "base_uri": "https://localhost:8080/",
          "height": 34
        }
      },
      "source": [
        "from google.colab import drive\n",
        "drive.mount('/content/drive')"
      ],
      "execution_count": 1,
      "outputs": [
        {
          "output_type": "stream",
          "text": [
            "Mounted at /content/drive\n"
          ],
          "name": "stdout"
        }
      ]
    },
    {
      "cell_type": "code",
      "metadata": {
        "id": "3uQTW_t9mnkr"
      },
      "source": [
        "import os\n",
        "import numpy as np\n",
        "import pandas as pd\n",
        "import matplotlib.pyplot as plt\n",
        "import seaborn as sns\n",
        "from scipy import stats\n",
        "%matplotlib inline"
      ],
      "execution_count": 2,
      "outputs": []
    },
    {
      "cell_type": "code",
      "metadata": {
        "id": "iSpFM9bGmtI6"
      },
      "source": [
        "data_dir = \"/content/drive/My Drive/Midoribon/input/\"\n",
        "data =  pd.read_csv(os.path.join(data_dir, 'chap6a_data.csv'))"
      ],
      "execution_count": 3,
      "outputs": []
    },
    {
      "cell_type": "code",
      "metadata": {
        "id": "Q_BGOPA8mwSa",
        "outputId": "0492aba6-8f87-47ea-9410-2ac256472ad8",
        "colab": {
          "base_uri": "https://localhost:8080/",
          "height": 207
        }
      },
      "source": [
        "print(len(data))\n",
        "data.head()"
      ],
      "execution_count": 4,
      "outputs": [
        {
          "output_type": "stream",
          "text": [
            "100\n"
          ],
          "name": "stdout"
        },
        {
          "output_type": "execute_result",
          "data": {
            "text/html": [
              "<div>\n",
              "<style scoped>\n",
              "    .dataframe tbody tr th:only-of-type {\n",
              "        vertical-align: middle;\n",
              "    }\n",
              "\n",
              "    .dataframe tbody tr th {\n",
              "        vertical-align: top;\n",
              "    }\n",
              "\n",
              "    .dataframe thead th {\n",
              "        text-align: right;\n",
              "    }\n",
              "</style>\n",
              "<table border=\"1\" class=\"dataframe\">\n",
              "  <thead>\n",
              "    <tr style=\"text-align: right;\">\n",
              "      <th></th>\n",
              "      <th>N</th>\n",
              "      <th>y</th>\n",
              "      <th>x</th>\n",
              "      <th>f</th>\n",
              "    </tr>\n",
              "  </thead>\n",
              "  <tbody>\n",
              "    <tr>\n",
              "      <th>0</th>\n",
              "      <td>8</td>\n",
              "      <td>1</td>\n",
              "      <td>9.76</td>\n",
              "      <td>C</td>\n",
              "    </tr>\n",
              "    <tr>\n",
              "      <th>1</th>\n",
              "      <td>8</td>\n",
              "      <td>6</td>\n",
              "      <td>10.48</td>\n",
              "      <td>C</td>\n",
              "    </tr>\n",
              "    <tr>\n",
              "      <th>2</th>\n",
              "      <td>8</td>\n",
              "      <td>5</td>\n",
              "      <td>10.83</td>\n",
              "      <td>C</td>\n",
              "    </tr>\n",
              "    <tr>\n",
              "      <th>3</th>\n",
              "      <td>8</td>\n",
              "      <td>6</td>\n",
              "      <td>10.94</td>\n",
              "      <td>C</td>\n",
              "    </tr>\n",
              "    <tr>\n",
              "      <th>4</th>\n",
              "      <td>8</td>\n",
              "      <td>1</td>\n",
              "      <td>9.37</td>\n",
              "      <td>C</td>\n",
              "    </tr>\n",
              "  </tbody>\n",
              "</table>\n",
              "</div>"
            ],
            "text/plain": [
              "   N  y      x  f\n",
              "0  8  1   9.76  C\n",
              "1  8  6  10.48  C\n",
              "2  8  5  10.83  C\n",
              "3  8  6  10.94  C\n",
              "4  8  1   9.37  C"
            ]
          },
          "metadata": {
            "tags": []
          },
          "execution_count": 4
        }
      ]
    },
    {
      "cell_type": "code",
      "metadata": {
        "id": "PNVr1EBYmz6m",
        "outputId": "bc10c7ec-8aa9-4f38-ed91-b9c1c9061c9d",
        "colab": {
          "base_uri": "https://localhost:8080/",
          "height": 274
        }
      },
      "source": [
        "data.describe()"
      ],
      "execution_count": 5,
      "outputs": [
        {
          "output_type": "execute_result",
          "data": {
            "text/html": [
              "<div>\n",
              "<style scoped>\n",
              "    .dataframe tbody tr th:only-of-type {\n",
              "        vertical-align: middle;\n",
              "    }\n",
              "\n",
              "    .dataframe tbody tr th {\n",
              "        vertical-align: top;\n",
              "    }\n",
              "\n",
              "    .dataframe thead th {\n",
              "        text-align: right;\n",
              "    }\n",
              "</style>\n",
              "<table border=\"1\" class=\"dataframe\">\n",
              "  <thead>\n",
              "    <tr style=\"text-align: right;\">\n",
              "      <th></th>\n",
              "      <th>N</th>\n",
              "      <th>y</th>\n",
              "      <th>x</th>\n",
              "    </tr>\n",
              "  </thead>\n",
              "  <tbody>\n",
              "    <tr>\n",
              "      <th>count</th>\n",
              "      <td>100.0</td>\n",
              "      <td>100.000000</td>\n",
              "      <td>100.000000</td>\n",
              "    </tr>\n",
              "    <tr>\n",
              "      <th>mean</th>\n",
              "      <td>8.0</td>\n",
              "      <td>5.080000</td>\n",
              "      <td>9.967200</td>\n",
              "    </tr>\n",
              "    <tr>\n",
              "      <th>std</th>\n",
              "      <td>0.0</td>\n",
              "      <td>2.743882</td>\n",
              "      <td>1.088954</td>\n",
              "    </tr>\n",
              "    <tr>\n",
              "      <th>min</th>\n",
              "      <td>8.0</td>\n",
              "      <td>0.000000</td>\n",
              "      <td>7.660000</td>\n",
              "    </tr>\n",
              "    <tr>\n",
              "      <th>25%</th>\n",
              "      <td>8.0</td>\n",
              "      <td>3.000000</td>\n",
              "      <td>9.337500</td>\n",
              "    </tr>\n",
              "    <tr>\n",
              "      <th>50%</th>\n",
              "      <td>8.0</td>\n",
              "      <td>6.000000</td>\n",
              "      <td>9.965000</td>\n",
              "    </tr>\n",
              "    <tr>\n",
              "      <th>75%</th>\n",
              "      <td>8.0</td>\n",
              "      <td>8.000000</td>\n",
              "      <td>10.770000</td>\n",
              "    </tr>\n",
              "    <tr>\n",
              "      <th>max</th>\n",
              "      <td>8.0</td>\n",
              "      <td>8.000000</td>\n",
              "      <td>12.440000</td>\n",
              "    </tr>\n",
              "  </tbody>\n",
              "</table>\n",
              "</div>"
            ],
            "text/plain": [
              "           N           y           x\n",
              "count  100.0  100.000000  100.000000\n",
              "mean     8.0    5.080000    9.967200\n",
              "std      0.0    2.743882    1.088954\n",
              "min      8.0    0.000000    7.660000\n",
              "25%      8.0    3.000000    9.337500\n",
              "50%      8.0    6.000000    9.965000\n",
              "75%      8.0    8.000000   10.770000\n",
              "max      8.0    8.000000   12.440000"
            ]
          },
          "metadata": {
            "tags": []
          },
          "execution_count": 5
        }
      ]
    },
    {
      "cell_type": "code",
      "metadata": {
        "id": "jVMXVAhzm16f",
        "outputId": "bce86ad6-a92b-4d8f-9f9f-373bb75d6704",
        "colab": {
          "base_uri": "https://localhost:8080/",
          "height": 232
        }
      },
      "source": [
        "print(data.f)"
      ],
      "execution_count": 6,
      "outputs": [
        {
          "output_type": "stream",
          "text": [
            "0     C\n",
            "1     C\n",
            "2     C\n",
            "3     C\n",
            "4     C\n",
            "     ..\n",
            "95    T\n",
            "96    T\n",
            "97    T\n",
            "98    T\n",
            "99    T\n",
            "Name: f, Length: 100, dtype: object\n"
          ],
          "name": "stdout"
        }
      ]
    },
    {
      "cell_type": "code",
      "metadata": {
        "id": "YDJMlR3xtUQN",
        "outputId": "9a20fd38-ddd4-4932-ff18-f4ec82b57e7a",
        "colab": {
          "base_uri": "https://localhost:8080/",
          "height": 279
        }
      },
      "source": [
        "sns.scatterplot(x='x', y='y', hue='f', data=data)\n",
        "plt.show()"
      ],
      "execution_count": 7,
      "outputs": [
        {
          "output_type": "display_data",
          "data": {
            "image/png": "[encoded data removed]",
            "text/plain": [
              "<Figure size 432x288 with 1 Axes>"
            ]
          },
          "metadata": {
            "tags": [],
            "needs_background": "light"
          }
        }
      ]
    },
    {
      "cell_type": "code",
      "metadata": {
        "id": "iWWV0g3UsMWk",
        "outputId": "ad6005f8-c6fe-4e03-f512-1369e4843b3a",
        "colab": {
          "base_uri": "https://localhost:8080/",
          "height": 279
        }
      },
      "source": [
        "sns.boxplot(x='f', y='x', data=data)\n",
        "plt.show()"
      ],
      "execution_count": 9,
      "outputs": [
        {
          "output_type": "display_data",
          "data": {
            "image/png": "[encoded data removed]",
            "text/plain": [
              "<Figure size 432x288 with 1 Axes>"
            ]
          },
          "metadata": {
            "tags": [],
            "needs_background": "light"
          }
        }
      ]
    },
    {
      "cell_type": "markdown",
      "metadata": {
        "id": "1aVFu-Rmt1Ls"
      },
      "source": [
        "### 二項分布で表現する「あり・なし」カウントデータ\n",
        "\n",
        "二項分布とは、結果が2値であるベルヌーイの施行を独立にn回行った（上限がある）ときの確率変数をあらわす離散確率分布。\n"
      ]
    },
    {
      "cell_type": "markdown",
      "metadata": {
        "id": "nDxE1tKR2e5b"
      },
      "source": [
        "*Pr(y | N, q)* はN個の観察データ中、y個で事象が起こる確率\n"
      ]
    },
    {
      "cell_type": "code",
      "metadata": {
        "id": "MU-SSsYhtg9m",
        "outputId": "c1eef557-d22a-4038-95db-edeeb15c501d",
        "colab": {
          "base_uri": "https://localhost:8080/",
          "height": 265
        }
      },
      "source": [
        "y = np.arange(0, 9)\n",
        "plt.plot(pd.Series(stats.binom.pmf(y, 8, 0.1), index=y), 'o--', label='q=0.1')\n",
        "plt.plot(pd.Series(stats.binom.pmf(y, 8, 0.3), index=y), 'D--', label='q=0.3')\n",
        "plt.plot(pd.Series(stats.binom.pmf(y, 8, 0.8), index=y), '^--', label='q=0.8')\n",
        "plt.legend()\n",
        "plt.show()"
      ],
      "execution_count": 37,
      "outputs": [
        {
          "output_type": "display_data",
          "data": {
            "image/png": "[encoded data removed]",
            "text/plain": [
              "<Figure size 432x288 with 1 Axes>"
            ]
          },
          "metadata": {
            "tags": [],
            "needs_background": "light"
          }
        }
      ]
    },
    {
      "cell_type": "markdown",
      "metadata": {
        "id": "IvxXIEPF8kzN"
      },
      "source": [
        "### ロジスティック回帰とロジットリンク関数\n",
        "\n",
        "GLMは、確率分布・リンク関数・線形予測子を指定し、足し算の数式であらわされるモデル（線形モデル）。\n",
        "ロジスティック回帰は、二項分布(確率分布)、ロジットリンク関数(リンク関数)を用いる。\n",
        "\n",
        "$$\n",
        "q_i = logistic (z_i) = \\frac{1} {1+\\exp(-z_i)}\n",
        "$$\n",
        "\n",
        "ziは、線形予測子で、 $z_i = \\beta_1 + \\beta_2 x_i + ...$"
      ]
    },
    {
      "cell_type": "code",
      "metadata": {
        "id": "WMBjGSlVCTpL",
        "outputId": "af3afffb-5bba-4020-cbc6-8d74c1ffb7eb",
        "colab": {
          "base_uri": "https://localhost:8080/",
          "height": 265
        }
      },
      "source": [
        "def sigmoid(zi):\n",
        "    return 1 /(1+np.exp(-zi))\n",
        "\n",
        "zi = np.arange(-6, 6, 0.1)\n",
        "qi = sigmoid(zi)\n",
        "\n",
        "plt.plot(zi, qi)\n",
        "ｐｌｔ.show()"
      ],
      "execution_count": 25,
      "outputs": [
        {
          "output_type": "display_data",
          "data": {
            "image/png": "[encoded data removed]",
            "text/plain": [
              "<Figure size 432x288 with 1 Axes>"
            ]
          },
          "metadata": {
            "tags": [],
            "needs_background": "light"
          }
        }
      ]
    },
    {
      "cell_type": "markdown",
      "metadata": {
        "id": "34hDDWXU_1R9"
      },
      "source": [
        "ロジット関数は、ロジスティック関数の逆関数である。\n",
        "\n",
        "$$\n",
        "logit(q_i)=\\log \\frac {q_i}{1-q_i}\n",
        "$$"
      ]
    },
    {
      "cell_type": "code",
      "metadata": {
        "id": "cTT-SpwU-rJd"
      },
      "source": [
        "import statsmodels.api as sm\n",
        "import statsmodels.formula.api as smf\n",
        "\n",
        "model = smf.glm('y + I(N-y)~ x + f', data=data, family=sm.families.Binomial())"
      ],
      "execution_count": 28,
      "outputs": []
    },
    {
      "cell_type": "code",
      "metadata": {
        "id": "_hM8Y1rIAwMJ",
        "outputId": "a63dd008-fd99-4499-a2d6-711065a1faed",
        "colab": {
          "base_uri": "https://localhost:8080/",
          "height": 270
        }
      },
      "source": [
        "result = model.fit()\n",
        "result.summary()"
      ],
      "execution_count": 29,
      "outputs": [
        {
          "output_type": "execute_result",
          "data": {
            "text/html": [
              "<table class=\"simpletable\">\n",
              "<caption>Generalized Linear Model Regression Results</caption>\n",
              "<tr>\n",
              "  <th>Dep. Variable:</th>   <td>['y', 'I(N - y)']</td> <th>  No. Observations:  </th>  <td>   100</td> \n",
              "</tr>\n",
              "<tr>\n",
              "  <th>Model:</th>                  <td>GLM</td>        <th>  Df Residuals:      </th>  <td>    97</td> \n",
              "</tr>\n",
              "<tr>\n",
              "  <th>Model Family:</th>        <td>Binomial</td>      <th>  Df Model:          </th>  <td>     2</td> \n",
              "</tr>\n",
              "<tr>\n",
              "  <th>Link Function:</th>         <td>logit</td>       <th>  Scale:             </th> <td>  1.0000</td>\n",
              "</tr>\n",
              "<tr>\n",
              "  <th>Method:</th>                <td>IRLS</td>        <th>  Log-Likelihood:    </th> <td> -133.11</td>\n",
              "</tr>\n",
              "<tr>\n",
              "  <th>Date:</th>            <td>Sun, 04 Oct 2020</td>  <th>  Deviance:          </th> <td>  123.03</td>\n",
              "</tr>\n",
              "<tr>\n",
              "  <th>Time:</th>                <td>00:29:35</td>      <th>  Pearson chi2:      </th>  <td>  109.</td> \n",
              "</tr>\n",
              "<tr>\n",
              "  <th>No. Iterations:</th>          <td>6</td>         <th>                     </th>     <td> </td>   \n",
              "</tr>\n",
              "<tr>\n",
              "  <th>Covariance Type:</th>     <td>nonrobust</td>     <th>                     </th>     <td> </td>   \n",
              "</tr>\n",
              "</table>\n",
              "<table class=\"simpletable\">\n",
              "<tr>\n",
              "      <td></td>         <th>coef</th>     <th>std err</th>      <th>z</th>      <th>P>|z|</th>  <th>[0.025</th>    <th>0.975]</th>  \n",
              "</tr>\n",
              "<tr>\n",
              "  <th>Intercept</th> <td>  -19.5361</td> <td>    1.414</td> <td>  -13.818</td> <td> 0.000</td> <td>  -22.307</td> <td>  -16.765</td>\n",
              "</tr>\n",
              "<tr>\n",
              "  <th>f[T.T]</th>    <td>    2.0215</td> <td>    0.231</td> <td>    8.740</td> <td> 0.000</td> <td>    1.568</td> <td>    2.475</td>\n",
              "</tr>\n",
              "<tr>\n",
              "  <th>x</th>         <td>    1.9524</td> <td>    0.139</td> <td>   14.059</td> <td> 0.000</td> <td>    1.680</td> <td>    2.225</td>\n",
              "</tr>\n",
              "</table>"
            ],
            "text/plain": [
              "<class 'statsmodels.iolib.summary.Summary'>\n",
              "\"\"\"\n",
              "                 Generalized Linear Model Regression Results                  \n",
              "==============================================================================\n",
              "Dep. Variable:      ['y', 'I(N - y)']   No. Observations:                  100\n",
              "Model:                            GLM   Df Residuals:                       97\n",
              "Model Family:                Binomial   Df Model:                            2\n",
              "Link Function:                  logit   Scale:                          1.0000\n",
              "Method:                          IRLS   Log-Likelihood:                -133.11\n",
              "Date:                Sun, 04 Oct 2020   Deviance:                       123.03\n",
              "Time:                        00:29:35   Pearson chi2:                     109.\n",
              "No. Iterations:                     6                                         \n",
              "Covariance Type:            nonrobust                                         \n",
              "==============================================================================\n",
              "                 coef    std err          z      P>|z|      [0.025      0.975]\n",
              "------------------------------------------------------------------------------\n",
              "Intercept    -19.5361      1.414    -13.818      0.000     -22.307     -16.765\n",
              "f[T.T]         2.0215      0.231      8.740      0.000       1.568       2.475\n",
              "x              1.9524      0.139     14.059      0.000       1.680       2.225\n",
              "==============================================================================\n",
              "\"\"\""
            ]
          },
          "metadata": {
            "tags": []
          },
          "execution_count": 29
        }
      ]
    },
    {
      "cell_type": "code",
      "metadata": {
        "id": "iLvXS09pKHGn"
      },
      "source": [
        "β1 = -19.5361\n",
        "β2 = 1.9524\n",
        "β3 = 2.0215"
      ],
      "execution_count": 30,
      "outputs": []
    },
    {
      "cell_type": "code",
      "metadata": {
        "id": "wYo0DFmBRIzj"
      },
      "source": [
        "x = np.linspace(7, 12, 100)\n",
        "z_c = x*β2 + β1\n",
        "z_t = x*β2 + β1 + β3\n",
        "y_c = sigmoid(z_c)*8\n",
        "y_t = sigmoid(z_t)*8"
      ],
      "execution_count": null,
      "outputs": []
    },
    {
      "cell_type": "code",
      "metadata": {
        "id": "8O3PjGcLQo0m",
        "outputId": "e615a64e-4251-4c91-866c-c3d86a14c995",
        "colab": {
          "base_uri": "https://localhost:8080/",
          "height": 279
        }
      },
      "source": [
        "plt.plot(x, y_c)\n",
        "plt.plot(x, y_t)\n",
        "\n",
        "sns.scatterplot(x='x', y='y', hue='f', data=data)\n",
        "\n",
        "plt.legend()\n",
        "plt.show()"
      ],
      "execution_count": 58,
      "outputs": [
        {
          "output_type": "display_data",
          "data": {
            "image/png": "[encoded data removed]",
            "text/plain": [
              "<Figure size 432x288 with 1 Axes>"
            ]
          },
          "metadata": {
            "tags": [],
            "needs_background": "light"
          }
        }
      ]
    },
    {
      "cell_type": "code",
      "metadata": {
        "id": "vfTLxfldM1qK"
      },
      "source": [
        "df_c = pd.DataFrame()\n",
        "df_t = pd.DataFrame()\n",
        "df_c[\"x\"] = np.linspace(7,12,100)\n",
        "df_t[\"x\"] = np.linspace(7,12,100)\n",
        "df_c[\"f\"] = \"C\"\n",
        "df_t[\"f\"] = \"T\"\n",
        "predict_c = result.predict(df_c)*8\n",
        "predict_t = result.predict(df_t)*8"
      ],
      "execution_count": 52,
      "outputs": []
    },
    {
      "cell_type": "code",
      "metadata": {
        "id": "iwKwIm-DA4n2",
        "outputId": "0ec84dde-d5cd-4d9d-830d-fc944467cc1e",
        "colab": {
          "base_uri": "https://localhost:8080/",
          "height": 279
        }
      },
      "source": [
        "plt.plot(df_c.x, predict_c)\n",
        "plt.plot(df_t.x, predict_t)\n",
        "\n",
        "sns.scatterplot(x='x', y='y', hue='f', data=data)\n",
        "\n",
        "plt.legend()\n",
        "plt.show()"
      ],
      "execution_count": 55,
      "outputs": [
        {
          "output_type": "display_data",
          "data": {
            "image/png": "[encoded data removed]",
            "text/plain": [
              "<Figure size 432x288 with 1 Axes>"
            ]
          },
          "metadata": {
            "tags": [],
            "needs_background": "light"
          }
        }
      ]
    },
    {
      "cell_type": "markdown",
      "metadata": {
        "id": "PKFxFSOcUSn5"
      },
      "source": [
        "### ロジスティック回帰のモデル選択"
      ]
    },
    {
      "cell_type": "code",
      "metadata": {
        "id": "FIqn7s_TMqfW"
      },
      "source": [
        "def stepAIC(data, descriptors):\n",
        "    best_aic = float(\"inf\")\n",
        "    for desk in descriptors:\n",
        "      formula = 'y + I(N-y) ~ ' + ' + '.join(desk)\n",
        "      model = smf.glm(formula=formula, \n",
        "                      data=data, \n",
        "                      family=sm.families.Binomial()).fit()\n",
        "\n",
        "      print(f\"model: {formula},  AIC: {model.aic}\")\n",
        "      print(\"*************************************\")\n",
        "\n",
        "      if best_aic > model.aic:\n",
        "        best_aic, best_model = model.aic, model\n",
        "    return best_model"
      ],
      "execution_count": 170,
      "outputs": []
    },
    {
      "cell_type": "code",
      "metadata": {
        "id": "-SUCz24AVm6s",
        "outputId": "c5e7ff94-5c54-45ed-f2f7-7fa9b352a8bd",
        "colab": {
          "base_uri": "https://localhost:8080/",
          "height": 484
        }
      },
      "source": [
        "descriptors = [\"1\", \"f\", \"x\", \"xf\"]\n",
        "best_model = stepAIC(data, descriptors)\n",
        "\n",
        "print(best_model.summary2())"
      ],
      "execution_count": 172,
      "outputs": [
        {
          "output_type": "stream",
          "text": [
            "model: y + I(N-y) ~ 1,  AIC: 644.4093416623778\n",
            "*************************************\n",
            "model: y + I(N-y) ~ f,  AIC: 637.7597534566678\n",
            "*************************************\n",
            "model: y + I(N-y) ~ x,  AIC: 364.345443283716\n",
            "*************************************\n",
            "model: y + I(N-y) ~ x + f,  AIC: 272.2111292852233\n",
            "*************************************\n",
            "               Results: Generalized linear model\n",
            "===============================================================\n",
            "Model:              GLM               AIC:            272.2111 \n",
            "Link Function:      logit             BIC:            -323.6676\n",
            "Dependent Variable: ['y', 'I(N - y)'] Log-Likelihood: -133.11  \n",
            "Date:               2020-10-04 02:53  LL-Null:        -321.20  \n",
            "No. Observations:   100               Deviance:       123.03   \n",
            "Df Model:           2                 Pearson chi2:   109.     \n",
            "Df Residuals:       97                Scale:          1.0000   \n",
            "Method:             IRLS                                       \n",
            "---------------------------------------------------------------\n",
            "             Coef.   Std.Err.    z     P>|z|   [0.025   0.975] \n",
            "---------------------------------------------------------------\n",
            "Intercept   -19.5361   1.4138 -13.8184 0.0000 -22.3070 -16.7651\n",
            "f[T.T]        2.0215   0.2313   8.7404 0.0000   1.5682   2.4748\n",
            "x             1.9524   0.1389  14.0590 0.0000   1.6802   2.2246\n",
            "===============================================================\n",
            "\n"
          ],
          "name": "stdout"
        }
      ]
    },
    {
      "cell_type": "markdown",
      "metadata": {
        "id": "-Y9o-QcWfdh4"
      },
      "source": [
        "### 交互作用項の入った線形予測子\n",
        "\n",
        "線形予測子$\\beta_1 + \\beta_2 x_i + \\beta_3 f_i$をさらに複雑化して、交互作用(interaction)項を追加\n",
        "$$logit(q_i) = \\beta_1 + \\beta_2 x_i + \\beta_3 f_i + \\beta_4 x_i f_i$$"
      ]
    },
    {
      "cell_type": "code",
      "metadata": {
        "id": "65SbAfqMVqlk",
        "outputId": "1061b324-1273-45ca-d0c8-007ee77d4d2f",
        "colab": {
          "base_uri": "https://localhost:8080/",
          "height": 253
        }
      },
      "source": [
        "# AICは悪くないが、モデルが複雑になるため、むやみに交互作用項を入れない\n",
        "model = smf.glm('y + I(N-y)~ x*f',data=data, family=sm.families.Binomial())\n",
        "result = model.fit()\n",
        "result.summary2()"
      ],
      "execution_count": 173,
      "outputs": [
        {
          "output_type": "execute_result",
          "data": {
            "text/html": [
              "<table class=\"simpletable\">\n",
              "<tr>\n",
              "        <td>Model:</td>               <td>GLM</td>             <td>AIC:</td>       <td>273.6106</td> \n",
              "</tr>\n",
              "<tr>\n",
              "    <td>Link Function:</td>          <td>logit</td>            <td>BIC:</td>       <td>-319.6630</td>\n",
              "</tr>\n",
              "<tr>\n",
              "  <td>Dependent Variable:</td> <td>['y', 'I(N - y)']</td> <td>Log-Likelihood:</td>  <td>-132.81</td> \n",
              "</tr>\n",
              "<tr>\n",
              "         <td>Date:</td>        <td>2020-10-04 02:55</td>     <td>LL-Null:</td>      <td>-321.20</td> \n",
              "</tr>\n",
              "<tr>\n",
              "   <td>No. Observations:</td>         <td>100</td>           <td>Deviance:</td>     <td>122.43</td>  \n",
              "</tr>\n",
              "<tr>\n",
              "       <td>Df Model:</td>              <td>3</td>          <td>Pearson chi2:</td>    <td>109.</td>   \n",
              "</tr>\n",
              "<tr>\n",
              "     <td>Df Residuals:</td>           <td>96</td>             <td>Scale:</td>       <td>1.0000</td>  \n",
              "</tr>\n",
              "<tr>\n",
              "        <td>Method:</td>             <td>IRLS</td>               <td></td>             <td></td>     \n",
              "</tr>\n",
              "</table>\n",
              "<table class=\"simpletable\">\n",
              "<tr>\n",
              "      <td></td>        <th>Coef.</th>  <th>Std.Err.</th>    <th>z</th>     <th>P>|z|</th>  <th>[0.025</th>   <th>0.975]</th> \n",
              "</tr>\n",
              "<tr>\n",
              "  <th>Intercept</th> <td>-18.5233</td>  <td>1.8861</td>  <td>-9.8209</td> <td>0.0000</td> <td>-22.2200</td> <td>-14.8266</td>\n",
              "</tr>\n",
              "<tr>\n",
              "  <th>f[T.T]</th>     <td>-0.0638</td>  <td>2.7036</td>  <td>-0.0236</td> <td>0.9812</td>  <td>-5.3628</td>  <td>5.2352</td> \n",
              "</tr>\n",
              "<tr>\n",
              "  <th>x</th>          <td>1.8525</td>   <td>0.1856</td>  <td>9.9826</td>  <td>0.0000</td>  <td>1.4888</td>   <td>2.2162</td> \n",
              "</tr>\n",
              "<tr>\n",
              "  <th>x:f[T.T]</th>   <td>0.2163</td>   <td>0.2801</td>  <td>0.7724</td>  <td>0.4399</td>  <td>-0.3326</td>  <td>0.7653</td> \n",
              "</tr>\n",
              "</table>"
            ],
            "text/plain": [
              "<class 'statsmodels.iolib.summary2.Summary'>\n",
              "\"\"\"\n",
              "               Results: Generalized linear model\n",
              "===============================================================\n",
              "Model:              GLM               AIC:            273.6106 \n",
              "Link Function:      logit             BIC:            -319.6630\n",
              "Dependent Variable: ['y', 'I(N - y)'] Log-Likelihood: -132.81  \n",
              "Date:               2020-10-04 02:55  LL-Null:        -321.20  \n",
              "No. Observations:   100               Deviance:       122.43   \n",
              "Df Model:           3                 Pearson chi2:   109.     \n",
              "Df Residuals:       96                Scale:          1.0000   \n",
              "Method:             IRLS                                       \n",
              "---------------------------------------------------------------\n",
              "              Coef.   Std.Err.    z    P>|z|   [0.025   0.975] \n",
              "---------------------------------------------------------------\n",
              "Intercept    -18.5233   1.8861 -9.8209 0.0000 -22.2200 -14.8266\n",
              "f[T.T]        -0.0638   2.7036 -0.0236 0.9812  -5.3628   5.2352\n",
              "x              1.8525   0.1856  9.9826 0.0000   1.4888   2.2162\n",
              "x:f[T.T]       0.2163   0.2801  0.7724 0.4399  -0.3326   0.7653\n",
              "===============================================================\n",
              "\n",
              "\"\"\""
            ]
          },
          "metadata": {
            "tags": []
          },
          "execution_count": 173
        }
      ]
    },
    {
      "cell_type": "markdown",
      "metadata": {
        "id": "OX9mNpc4jYn5"
      },
      "source": [
        "### 割算値いらずのオフセット項つき回帰\n",
        "\n",
        "観測データどうしの割算値は、観測データの情報や分布が失われる危険性がある。\n"
      ]
    },
    {
      "cell_type": "code",
      "metadata": {
        "id": "73xsC0pEhBMR"
      },
      "source": [
        "data2 =  pd.read_csv(os.path.join(data_dir, 'chap6b_data.csv'))"
      ],
      "execution_count": 174,
      "outputs": []
    },
    {
      "cell_type": "code",
      "metadata": {
        "id": "9ojEzF_8kIZx",
        "outputId": "d9c0098d-264c-4075-dc77-1938c2ee7474",
        "colab": {
          "base_uri": "https://localhost:8080/",
          "height": 388
        }
      },
      "source": [
        "data2"
      ],
      "execution_count": 176,
      "outputs": [
        {
          "output_type": "execute_result",
          "data": {
            "text/html": [
              "<div>\n",
              "<style scoped>\n",
              "    .dataframe tbody tr th:only-of-type {\n",
              "        vertical-align: middle;\n",
              "    }\n",
              "\n",
              "    .dataframe tbody tr th {\n",
              "        vertical-align: top;\n",
              "    }\n",
              "\n",
              "    .dataframe thead th {\n",
              "        text-align: right;\n",
              "    }\n",
              "</style>\n",
              "<table border=\"1\" class=\"dataframe\">\n",
              "  <thead>\n",
              "    <tr style=\"text-align: right;\">\n",
              "      <th></th>\n",
              "      <th>y</th>\n",
              "      <th>x</th>\n",
              "      <th>A</th>\n",
              "    </tr>\n",
              "  </thead>\n",
              "  <tbody>\n",
              "    <tr>\n",
              "      <th>0</th>\n",
              "      <td>57</td>\n",
              "      <td>0.68</td>\n",
              "      <td>10.3</td>\n",
              "    </tr>\n",
              "    <tr>\n",
              "      <th>1</th>\n",
              "      <td>64</td>\n",
              "      <td>0.27</td>\n",
              "      <td>15.6</td>\n",
              "    </tr>\n",
              "    <tr>\n",
              "      <th>2</th>\n",
              "      <td>49</td>\n",
              "      <td>0.46</td>\n",
              "      <td>10.0</td>\n",
              "    </tr>\n",
              "    <tr>\n",
              "      <th>3</th>\n",
              "      <td>64</td>\n",
              "      <td>0.45</td>\n",
              "      <td>14.9</td>\n",
              "    </tr>\n",
              "    <tr>\n",
              "      <th>4</th>\n",
              "      <td>82</td>\n",
              "      <td>0.74</td>\n",
              "      <td>14.0</td>\n",
              "    </tr>\n",
              "    <tr>\n",
              "      <th>...</th>\n",
              "      <td>...</td>\n",
              "      <td>...</td>\n",
              "      <td>...</td>\n",
              "    </tr>\n",
              "    <tr>\n",
              "      <th>95</th>\n",
              "      <td>57</td>\n",
              "      <td>0.76</td>\n",
              "      <td>9.8</td>\n",
              "    </tr>\n",
              "    <tr>\n",
              "      <th>96</th>\n",
              "      <td>49</td>\n",
              "      <td>0.17</td>\n",
              "      <td>12.5</td>\n",
              "    </tr>\n",
              "    <tr>\n",
              "      <th>97</th>\n",
              "      <td>95</td>\n",
              "      <td>0.98</td>\n",
              "      <td>11.4</td>\n",
              "    </tr>\n",
              "    <tr>\n",
              "      <th>98</th>\n",
              "      <td>27</td>\n",
              "      <td>0.54</td>\n",
              "      <td>5.4</td>\n",
              "    </tr>\n",
              "    <tr>\n",
              "      <th>99</th>\n",
              "      <td>71</td>\n",
              "      <td>0.47</td>\n",
              "      <td>13.5</td>\n",
              "    </tr>\n",
              "  </tbody>\n",
              "</table>\n",
              "<p>100 rows × 3 columns</p>\n",
              "</div>"
            ],
            "text/plain": [
              "     y     x     A\n",
              "0   57  0.68  10.3\n",
              "1   64  0.27  15.6\n",
              "2   49  0.46  10.0\n",
              "3   64  0.45  14.9\n",
              "4   82  0.74  14.0\n",
              "..  ..   ...   ...\n",
              "95  57  0.76   9.8\n",
              "96  49  0.17  12.5\n",
              "97  95  0.98  11.4\n",
              "98  27  0.54   5.4\n",
              "99  71  0.47  13.5\n",
              "\n",
              "[100 rows x 3 columns]"
            ]
          },
          "metadata": {
            "tags": []
          },
          "execution_count": 176
        }
      ]
    },
    {
      "cell_type": "code",
      "metadata": {
        "id": "Ev7BWiLskLTa",
        "outputId": "63ccafbb-f3ce-4d75-a094-ff2b2c4078c3",
        "colab": {
          "base_uri": "https://localhost:8080/",
          "height": 274
        }
      },
      "source": [
        "data2.describe()"
      ],
      "execution_count": 178,
      "outputs": [
        {
          "output_type": "execute_result",
          "data": {
            "text/html": [
              "<div>\n",
              "<style scoped>\n",
              "    .dataframe tbody tr th:only-of-type {\n",
              "        vertical-align: middle;\n",
              "    }\n",
              "\n",
              "    .dataframe tbody tr th {\n",
              "        vertical-align: top;\n",
              "    }\n",
              "\n",
              "    .dataframe thead th {\n",
              "        text-align: right;\n",
              "    }\n",
              "</style>\n",
              "<table border=\"1\" class=\"dataframe\">\n",
              "  <thead>\n",
              "    <tr style=\"text-align: right;\">\n",
              "      <th></th>\n",
              "      <th>y</th>\n",
              "      <th>x</th>\n",
              "      <th>A</th>\n",
              "    </tr>\n",
              "  </thead>\n",
              "  <tbody>\n",
              "    <tr>\n",
              "      <th>count</th>\n",
              "      <td>100.000000</td>\n",
              "      <td>100.000000</td>\n",
              "      <td>100.000000</td>\n",
              "    </tr>\n",
              "    <tr>\n",
              "      <th>mean</th>\n",
              "      <td>48.090000</td>\n",
              "      <td>0.514100</td>\n",
              "      <td>10.468000</td>\n",
              "    </tr>\n",
              "    <tr>\n",
              "      <th>std</th>\n",
              "      <td>17.137056</td>\n",
              "      <td>0.188573</td>\n",
              "      <td>2.927262</td>\n",
              "    </tr>\n",
              "    <tr>\n",
              "      <th>min</th>\n",
              "      <td>13.000000</td>\n",
              "      <td>0.050000</td>\n",
              "      <td>3.500000</td>\n",
              "    </tr>\n",
              "    <tr>\n",
              "      <th>25%</th>\n",
              "      <td>36.000000</td>\n",
              "      <td>0.400000</td>\n",
              "      <td>8.800000</td>\n",
              "    </tr>\n",
              "    <tr>\n",
              "      <th>50%</th>\n",
              "      <td>46.000000</td>\n",
              "      <td>0.515000</td>\n",
              "      <td>10.300000</td>\n",
              "    </tr>\n",
              "    <tr>\n",
              "      <th>75%</th>\n",
              "      <td>59.500000</td>\n",
              "      <td>0.642500</td>\n",
              "      <td>12.150000</td>\n",
              "    </tr>\n",
              "    <tr>\n",
              "      <th>max</th>\n",
              "      <td>95.000000</td>\n",
              "      <td>0.990000</td>\n",
              "      <td>17.400000</td>\n",
              "    </tr>\n",
              "  </tbody>\n",
              "</table>\n",
              "</div>"
            ],
            "text/plain": [
              "                y           x           A\n",
              "count  100.000000  100.000000  100.000000\n",
              "mean    48.090000    0.514100   10.468000\n",
              "std     17.137056    0.188573    2.927262\n",
              "min     13.000000    0.050000    3.500000\n",
              "25%     36.000000    0.400000    8.800000\n",
              "50%     46.000000    0.515000   10.300000\n",
              "75%     59.500000    0.642500   12.150000\n",
              "max     95.000000    0.990000   17.400000"
            ]
          },
          "metadata": {
            "tags": []
          },
          "execution_count": 178
        }
      ]
    },
    {
      "cell_type": "code",
      "metadata": {
        "id": "PRe0s9rhkPE5",
        "outputId": "43be2d81-fec8-4bf5-f481-4d7699600180",
        "colab": {
          "base_uri": "https://localhost:8080/",
          "height": 280
        }
      },
      "source": [
        "data2.hist()\n",
        "plt.show()"
      ],
      "execution_count": 180,
      "outputs": [
        {
          "output_type": "display_data",
          "data": {
            "image/png": "[encoded data removed]",
            "text/plain": [
              "<Figure size 432x288 with 4 Axes>"
            ]
          },
          "metadata": {
            "tags": [],
            "needs_background": "light"
          }
        }
      ]
    },
    {
      "cell_type": "code",
      "metadata": {
        "id": "DxVC8NjVkSFp"
      },
      "source": [
        "model = smf.glm('y~x', offset=np.log(data2.A), data=data2, family=sm.families.Poisson())"
      ],
      "execution_count": 181,
      "outputs": []
    },
    {
      "cell_type": "code",
      "metadata": {
        "id": "eqkMBgfCkgL9",
        "outputId": "92958e84-15f5-4492-a1d2-7fad484ba01a",
        "colab": {
          "base_uri": "https://localhost:8080/",
          "height": 217
        }
      },
      "source": [
        "result = model.fit()\n",
        "result.summary2()"
      ],
      "execution_count": 182,
      "outputs": [
        {
          "output_type": "execute_result",
          "data": {
            "text/html": [
              "<table class=\"simpletable\">\n",
              "<tr>\n",
              "        <td>Model:</td>               <td>GLM</td>            <td>AIC:</td>       <td>650.3406</td> \n",
              "</tr>\n",
              "<tr>\n",
              "    <td>Link Function:</td>           <td>log</td>            <td>BIC:</td>       <td>-369.6983</td>\n",
              "</tr>\n",
              "<tr>\n",
              "  <td>Dependent Variable:</td>         <td>y</td>        <td>Log-Likelihood:</td>  <td>-323.17</td> \n",
              "</tr>\n",
              "<tr>\n",
              "         <td>Date:</td>        <td>2020-10-04 03:05</td>    <td>LL-Null:</td>      <td>-585.38</td> \n",
              "</tr>\n",
              "<tr>\n",
              "   <td>No. Observations:</td>         <td>100</td>          <td>Deviance:</td>     <td>81.608</td>  \n",
              "</tr>\n",
              "<tr>\n",
              "       <td>Df Model:</td>              <td>1</td>         <td>Pearson chi2:</td>    <td>81.5</td>   \n",
              "</tr>\n",
              "<tr>\n",
              "     <td>Df Residuals:</td>           <td>98</td>            <td>Scale:</td>       <td>1.0000</td>  \n",
              "</tr>\n",
              "<tr>\n",
              "        <td>Method:</td>             <td>IRLS</td>              <td></td>             <td></td>     \n",
              "</tr>\n",
              "</table>\n",
              "<table class=\"simpletable\">\n",
              "<tr>\n",
              "      <td></td>       <th>Coef.</th> <th>Std.Err.</th>    <th>z</th>     <th>P>|z|</th> <th>[0.025</th> <th>0.975]</th>\n",
              "</tr>\n",
              "<tr>\n",
              "  <th>Intercept</th> <td>0.9731</td>  <td>0.0451</td>  <td>21.5999</td> <td>0.0000</td> <td>0.8848</td> <td>1.0614</td>\n",
              "</tr>\n",
              "<tr>\n",
              "  <th>x</th>         <td>1.0383</td>  <td>0.0777</td>  <td>13.3638</td> <td>0.0000</td> <td>0.8860</td> <td>1.1905</td>\n",
              "</tr>\n",
              "</table>"
            ],
            "text/plain": [
              "<class 'statsmodels.iolib.summary2.Summary'>\n",
              "\"\"\"\n",
              "              Results: Generalized linear model\n",
              "==============================================================\n",
              "Model:              GLM              AIC:            650.3406 \n",
              "Link Function:      log              BIC:            -369.6983\n",
              "Dependent Variable: y                Log-Likelihood: -323.17  \n",
              "Date:               2020-10-04 03:05 LL-Null:        -585.38  \n",
              "No. Observations:   100              Deviance:       81.608   \n",
              "Df Model:           1                Pearson chi2:   81.5     \n",
              "Df Residuals:       98               Scale:          1.0000   \n",
              "Method:             IRLS                                      \n",
              "---------------------------------------------------------------\n",
              "              Coef.   Std.Err.     z     P>|z|   [0.025  0.975]\n",
              "---------------------------------------------------------------\n",
              "Intercept     0.9731    0.0451  21.5999  0.0000  0.8848  1.0614\n",
              "x             1.0383    0.0777  13.3638  0.0000  0.8860  1.1905\n",
              "==============================================================\n",
              "\n",
              "\"\"\""
            ]
          },
          "metadata": {
            "tags": []
          },
          "execution_count": 182
        }
      ]
    },
    {
      "cell_type": "code",
      "metadata": {
        "id": "VDuZzzJikiEx",
        "outputId": "6ea5600b-cdbd-4bf5-d608-8bf1404c7204",
        "colab": {
          "base_uri": "https://localhost:8080/",
          "height": 283
        }
      },
      "source": [
        "sns.scatterplot(x='A', y='y', c=data2.x, data=data2)\n",
        "plt.xlim(0,18)\n",
        "plt.ylim(0,100)\n",
        "plt.show()"
      ],
      "execution_count": 192,
      "outputs": [
        {
          "output_type": "display_data",
          "data": {
            "image/png": "[encoded data removed]",
            "text/plain": [
              "<Figure size 432x288 with 1 Axes>"
            ]
          },
          "metadata": {
            "tags": [],
            "needs_background": "light"
          }
        }
      ]
    },
    {
      "cell_type": "code",
      "metadata": {
        "id": "nZIygYJ_kvsL",
        "outputId": "8c71a348-07b3-4d3c-b7c8-a8c1df16c9c2",
        "colab": {
          "base_uri": "https://localhost:8080/",
          "height": 283
        }
      },
      "source": [
        "df_predict = pd.DataFrame()\n",
        "df_predict[\"x\"] = 0\n",
        "df_predict[\"A\"] = np.arange(0.1, 20, 0.1)\n",
        "for x in (0.1, 0.3, 0.5, 0.7, 0.9):\n",
        "    df_predict[\"x\"] = x\n",
        "    plt.plot(df_predict.A, result.predict(df_predict, offset=np.log(df_predict.A)), label=x)\n",
        "\n",
        "sns.scatterplot(x='A', y='y', c=data2.x, data=data2)\n",
        "plt.xlim(0,18)\n",
        "plt.ylim(0,100)\n",
        "plt.xlabel(\"A\")\n",
        "plt.ylabel(\"y\")\n",
        "plt.legend()\n",
        "plt.show()"
      ],
      "execution_count": 203,
      "outputs": [
        {
          "output_type": "display_data",
          "data": {
            "image/png": "[encoded data removed]",
            "text/plain": [
              "<Figure size 432x288 with 1 Axes>"
            ]
          },
          "metadata": {
            "tags": [],
            "needs_background": "light"
          }
        }
      ]
    },
    {
      "cell_type": "markdown",
      "metadata": {
        "id": "MVQXAZaAtNmR"
      },
      "source": [
        "### 正規分布とその尤度"
      ]
    },
    {
      "cell_type": "code",
      "metadata": {
        "id": "giWgjc4CnC09",
        "outputId": "1c9c9c56-9cda-4701-bf82-aa3f8120424f",
        "colab": {
          "base_uri": "https://localhost:8080/",
          "height": 265
        }
      },
      "source": [
        "y = np.arange(-5,5,0.1)\n",
        "plt.plot(pd.Series(stats.norm.pdf(y, loc=0, scale=1), index=y), label=r'$\\mu=0, \\sigma=1$')\n",
        "plt.plot(pd.Series(stats.norm.pdf(y, loc=0, scale=3), index=y), label=r'$\\mu=0, \\sigma=3$')\n",
        "plt.plot(pd.Series(stats.norm.pdf(y, loc=2, scale=1), index=y), label=r'$\\mu=2, \\sigma=1$')\n",
        "plt.legend()\n",
        "plt.show()"
      ],
      "execution_count": 205,
      "outputs": [
        {
          "output_type": "display_data",
          "data": {
            "image/png": "[encoded data removed]",
            "text/plain": [
              "<Figure size 432x288 with 1 Axes>"
            ]
          },
          "metadata": {
            "tags": [],
            "needs_background": "light"
          }
        }
      ]
    },
    {
      "cell_type": "markdown",
      "metadata": {
        "id": "8-I5O-wjt23Z"
      },
      "source": [
        "### ガンマ分布のGLM"
      ]
    },
    {
      "cell_type": "code",
      "metadata": {
        "id": "AGEUKH81ukei"
      },
      "source": [
        "data3 =  pd.read_csv(os.path.join(data_dir, 'chap6c_data.csv'), index_col=0)"
      ],
      "execution_count": 214,
      "outputs": []
    },
    {
      "cell_type": "code",
      "metadata": {
        "id": "JW6EUNRDuteN",
        "outputId": "f336a395-26e5-4ee9-a09e-2b642f02fde5",
        "colab": {
          "base_uri": "https://localhost:8080/",
          "height": 189
        }
      },
      "source": [
        "data3.head()"
      ],
      "execution_count": 216,
      "outputs": [
        {
          "output_type": "execute_result",
          "data": {
            "text/html": [
              "<div>\n",
              "<style scoped>\n",
              "    .dataframe tbody tr th:only-of-type {\n",
              "        vertical-align: middle;\n",
              "    }\n",
              "\n",
              "    .dataframe tbody tr th {\n",
              "        vertical-align: top;\n",
              "    }\n",
              "\n",
              "    .dataframe thead th {\n",
              "        text-align: right;\n",
              "    }\n",
              "</style>\n",
              "<table border=\"1\" class=\"dataframe\">\n",
              "  <thead>\n",
              "    <tr style=\"text-align: right;\">\n",
              "      <th></th>\n",
              "      <th>x</th>\n",
              "      <th>y</th>\n",
              "    </tr>\n",
              "  </thead>\n",
              "  <tbody>\n",
              "    <tr>\n",
              "      <th>1</th>\n",
              "      <td>0.001000</td>\n",
              "      <td>0.000887</td>\n",
              "    </tr>\n",
              "    <tr>\n",
              "      <th>2</th>\n",
              "      <td>0.017306</td>\n",
              "      <td>0.023465</td>\n",
              "    </tr>\n",
              "    <tr>\n",
              "      <th>3</th>\n",
              "      <td>0.033612</td>\n",
              "      <td>0.069876</td>\n",
              "    </tr>\n",
              "    <tr>\n",
              "      <th>4</th>\n",
              "      <td>0.049918</td>\n",
              "      <td>0.034340</td>\n",
              "    </tr>\n",
              "    <tr>\n",
              "      <th>5</th>\n",
              "      <td>0.066224</td>\n",
              "      <td>0.026520</td>\n",
              "    </tr>\n",
              "  </tbody>\n",
              "</table>\n",
              "</div>"
            ],
            "text/plain": [
              "          x         y\n",
              "1  0.001000  0.000887\n",
              "2  0.017306  0.023465\n",
              "3  0.033612  0.069876\n",
              "4  0.049918  0.034340\n",
              "5  0.066224  0.026520"
            ]
          },
          "metadata": {
            "tags": []
          },
          "execution_count": 216
        }
      ]
    },
    {
      "cell_type": "code",
      "metadata": {
        "id": "15X3q_Y1tRl0",
        "outputId": "e0851f54-8056-4bd4-8491-393890ea8748",
        "colab": {
          "base_uri": "https://localhost:8080/",
          "height": 279
        }
      },
      "source": [
        "sns.scatterplot(x='x', y='y', data=data3)\n",
        "plt.show()"
      ],
      "execution_count": 217,
      "outputs": [
        {
          "output_type": "display_data",
          "data": {
            "image/png": "[encoded data removed]",
            "text/plain": [
              "<Figure size 432x288 with 1 Axes>"
            ]
          },
          "metadata": {
            "tags": [],
            "needs_background": "light"
          }
        }
      ]
    },
    {
      "cell_type": "code",
      "metadata": {
        "id": "aMaXoN1NuILw",
        "outputId": "f2ec3d4f-7507-44cf-aa16-bf9454b68623",
        "colab": {
          "base_uri": "https://localhost:8080/",
          "height": 271
        }
      },
      "source": [
        "model = smf.glm('y~np.log(x)', data=data3, family=sm.families.Gamma(link=sm.families.links.log))\n",
        "result = model.fit()\n",
        "result.summary2()"
      ],
      "execution_count": 218,
      "outputs": [
        {
          "output_type": "stream",
          "text": [
            "/usr/local/lib/python3.6/dist-packages/ipykernel_launcher.py:1: DeprecationWarning: Calling Family(..) with a link class as argument is deprecated.\n",
            "Use an instance of a link class instead.\n",
            "  \"\"\"Entry point for launching an IPython kernel.\n"
          ],
          "name": "stderr"
        },
        {
          "output_type": "execute_result",
          "data": {
            "text/html": [
              "<table class=\"simpletable\">\n",
              "<tr>\n",
              "        <td>Model:</td>               <td>GLM</td>            <td>AIC:</td>       <td>-112.9416</td>\n",
              "</tr>\n",
              "<tr>\n",
              "    <td>Link Function:</td>           <td>log</td>            <td>BIC:</td>       <td>-170.5264</td>\n",
              "</tr>\n",
              "<tr>\n",
              "  <td>Dependent Variable:</td>         <td>y</td>        <td>Log-Likelihood:</td>  <td>58.471</td>  \n",
              "</tr>\n",
              "<tr>\n",
              "         <td>Date:</td>        <td>2020-10-04 03:50</td>    <td>LL-Null:</td>      <td>30.606</td>  \n",
              "</tr>\n",
              "<tr>\n",
              "   <td>No. Observations:</td>         <td>50</td>           <td>Deviance:</td>     <td>17.251</td>  \n",
              "</tr>\n",
              "<tr>\n",
              "       <td>Df Model:</td>              <td>1</td>         <td>Pearson chi2:</td>    <td>15.6</td>   \n",
              "</tr>\n",
              "<tr>\n",
              "     <td>Df Residuals:</td>           <td>48</td>            <td>Scale:</td>       <td>0.32508</td> \n",
              "</tr>\n",
              "<tr>\n",
              "        <td>Method:</td>             <td>IRLS</td>              <td></td>             <td></td>     \n",
              "</tr>\n",
              "</table>\n",
              "<table class=\"simpletable\">\n",
              "<tr>\n",
              "      <td></td>       <th>Coef.</th>  <th>Std.Err.</th>    <th>z</th>     <th>P>|z|</th> <th>[0.025</th>  <th>0.975]</th> \n",
              "</tr>\n",
              "<tr>\n",
              "  <th>Intercept</th> <td>-1.0403</td>  <td>0.1188</td>  <td>-8.7592</td> <td>0.0000</td> <td>-1.2731</td> <td>-0.8075</td>\n",
              "</tr>\n",
              "<tr>\n",
              "  <th>np.log(x)</th> <td>0.6832</td>   <td>0.0684</td>  <td>9.9921</td>  <td>0.0000</td> <td>0.5492</td>  <td>0.8173</td> \n",
              "</tr>\n",
              "</table>"
            ],
            "text/plain": [
              "<class 'statsmodels.iolib.summary2.Summary'>\n",
              "\"\"\"\n",
              "              Results: Generalized linear model\n",
              "==============================================================\n",
              "Model:              GLM              AIC:            -112.9416\n",
              "Link Function:      log              BIC:            -170.5264\n",
              "Dependent Variable: y                Log-Likelihood: 58.471   \n",
              "Date:               2020-10-04 03:50 LL-Null:        30.606   \n",
              "No. Observations:   50               Deviance:       17.251   \n",
              "Df Model:           1                Pearson chi2:   15.6     \n",
              "Df Residuals:       48               Scale:          0.32508  \n",
              "Method:             IRLS                                      \n",
              "---------------------------------------------------------------\n",
              "            Coef.   Std.Err.     z     P>|z|    [0.025   0.975]\n",
              "---------------------------------------------------------------\n",
              "Intercept  -1.0403    0.1188  -8.7592  0.0000  -1.2731  -0.8075\n",
              "np.log(x)   0.6832    0.0684   9.9921  0.0000   0.5492   0.8173\n",
              "==============================================================\n",
              "\n",
              "\"\"\""
            ]
          },
          "metadata": {
            "tags": []
          },
          "execution_count": 218
        }
      ]
    },
    {
      "cell_type": "code",
      "metadata": {
        "id": "oJGTz4FpvBvJ",
        "outputId": "dc4cab83-9078-42df-cf94-d8f6c88e1d93",
        "colab": {
          "base_uri": "https://localhost:8080/",
          "height": 279
        }
      },
      "source": [
        "intercept = result.params[\"Intercept\"]\n",
        "nplog = result.params[\"np.log(x)\"]\n",
        "pred = np.exp(intercept + np.log(data.x) * nplog)\n",
        "plt.plot(data.x, pred, c=\"r\")\n",
        "\n",
        "ci_upper=np.exp(-0.8075 + np.log(data.x)*0.8173)\n",
        "ci_lower=np.exp(-1.2731 + np.log(data.x)*0.5492)\n",
        "plt.plot(data.x, ci_upper, linestyle='--', color='gray', marker='') \n",
        "plt.plot(data.x, ci_lower, linestyle='--', color='gray', marker='') \n",
        "\n",
        "sns.scatterplot(x='x', y='y', data=data3)\n",
        "plt.show()"
      ],
      "execution_count": 237,
      "outputs": [
        {
          "output_type": "display_data",
          "data": {
            "image/png": "[encoded data removed]",
            "text/plain": [
              "<Figure size 432x288 with 1 Axes>"
            ]
          },
          "metadata": {
            "tags": [],
            "needs_background": "light"
          }
        }
      ]
    },
    {
      "cell_type": "code",
      "metadata": {
        "id": "q5lAzzxnvIH_"
      },
      "source": [
        ""
      ],
      "execution_count": null,
      "outputs": []
    }
  ]
}