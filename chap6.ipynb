{
  "nbformat": 4,
  "nbformat_minor": 0,
  "metadata": {
    "colab": {
      "name": "chap6.ipynb",
      "provenance": [],
      "authorship_tag": "ABX9TyO6oznaEULrN4kEPJXDQD/y",
      "include_colab_link": true
    },
    "kernelspec": {
      "name": "python3",
      "display_name": "Python 3"
    }
  },
  "cells": [
    {
      "cell_type": "markdown",
      "metadata": {
        "id": "view-in-github",
        "colab_type": "text"
      },
      "source": [
        "<a href=\"https://colab.research.google.com/github/KFurudate/Midoribon/blob/main/chap6.ipynb\" target=\"_parent\"><img src=\"https://colab.research.google.com/assets/colab-badge.svg\" alt=\"Open In Colab\"/></a>"
      ]
    },
    {
      "cell_type": "markdown",
      "metadata": {
        "id": "FkTVp0-umkva"
      },
      "source": [
        "# 第6章 GLMの応用範囲をひろげる -ロジスティック回帰など-\n"
      ]
    },
    {
      "cell_type": "code",
      "metadata": {
        "id": "e49aWS7Pmgij",
        "outputId": "755db96f-baa1-4be3-f5cf-1e80935d027f",
        "colab": {
          "base_uri": "https://localhost:8080/",
          "height": 34
        }
      },
      "source": [
        "from google.colab import drive\n",
        "drive.mount('/content/drive')"
      ],
      "execution_count": 1,
      "outputs": [
        {
          "output_type": "stream",
          "text": [
            "Mounted at /content/drive\n"
          ],
          "name": "stdout"
        }
      ]
    },
    {
      "cell_type": "code",
      "metadata": {
        "id": "3uQTW_t9mnkr"
      },
      "source": [
        "import os\n",
        "import numpy as np\n",
        "import pandas as pd\n",
        "import matplotlib.pyplot as plt\n",
        "import seaborn as sns\n",
        "from scipy import stats\n",
        "%matplotlib inline"
      ],
      "execution_count": 2,
      "outputs": []
    },
    {
      "cell_type": "code",
      "metadata": {
        "id": "iSpFM9bGmtI6"
      },
      "source": [
        "data_dir = \"/content/drive/My Drive/Midoribon/input/\"\n",
        "data =  pd.read_csv(os.path.join(data_dir, 'chap6a_data.csv'))"
      ],
      "execution_count": 3,
      "outputs": []
    },
    {
      "cell_type": "code",
      "metadata": {
        "id": "Q_BGOPA8mwSa",
        "outputId": "0492aba6-8f87-47ea-9410-2ac256472ad8",
        "colab": {
          "base_uri": "https://localhost:8080/",
          "height": 207
        }
      },
      "source": [
        "print(len(data))\n",
        "data.head()"
      ],
      "execution_count": 4,
      "outputs": [
        {
          "output_type": "stream",
          "text": [
            "100\n"
          ],
          "name": "stdout"
        },
        {
          "output_type": "execute_result",
          "data": {
            "text/html": [
              "<div>\n",
              "<style scoped>\n",
              "    .dataframe tbody tr th:only-of-type {\n",
              "        vertical-align: middle;\n",
              "    }\n",
              "\n",
              "    .dataframe tbody tr th {\n",
              "        vertical-align: top;\n",
              "    }\n",
              "\n",
              "    .dataframe thead th {\n",
              "        text-align: right;\n",
              "    }\n",
              "</style>\n",
              "<table border=\"1\" class=\"dataframe\">\n",
              "  <thead>\n",
              "    <tr style=\"text-align: right;\">\n",
              "      <th></th>\n",
              "      <th>N</th>\n",
              "      <th>y</th>\n",
              "      <th>x</th>\n",
              "      <th>f</th>\n",
              "    </tr>\n",
              "  </thead>\n",
              "  <tbody>\n",
              "    <tr>\n",
              "      <th>0</th>\n",
              "      <td>8</td>\n",
              "      <td>1</td>\n",
              "      <td>9.76</td>\n",
              "      <td>C</td>\n",
              "    </tr>\n",
              "    <tr>\n",
              "      <th>1</th>\n",
              "      <td>8</td>\n",
              "      <td>6</td>\n",
              "      <td>10.48</td>\n",
              "      <td>C</td>\n",
              "    </tr>\n",
              "    <tr>\n",
              "      <th>2</th>\n",
              "      <td>8</td>\n",
              "      <td>5</td>\n",
              "      <td>10.83</td>\n",
              "      <td>C</td>\n",
              "    </tr>\n",
              "    <tr>\n",
              "      <th>3</th>\n",
              "      <td>8</td>\n",
              "      <td>6</td>\n",
              "      <td>10.94</td>\n",
              "      <td>C</td>\n",
              "    </tr>\n",
              "    <tr>\n",
              "      <th>4</th>\n",
              "      <td>8</td>\n",
              "      <td>1</td>\n",
              "      <td>9.37</td>\n",
              "      <td>C</td>\n",
              "    </tr>\n",
              "  </tbody>\n",
              "</table>\n",
              "</div>"
            ],
            "text/plain": [
              "   N  y      x  f\n",
              "0  8  1   9.76  C\n",
              "1  8  6  10.48  C\n",
              "2  8  5  10.83  C\n",
              "3  8  6  10.94  C\n",
              "4  8  1   9.37  C"
            ]
          },
          "metadata": {
            "tags": []
          },
          "execution_count": 4
        }
      ]
    },
    {
      "cell_type": "code",
      "metadata": {
        "id": "PNVr1EBYmz6m",
        "outputId": "bc10c7ec-8aa9-4f38-ed91-b9c1c9061c9d",
        "colab": {
          "base_uri": "https://localhost:8080/",
          "height": 274
        }
      },
      "source": [
        "data.describe()"
      ],
      "execution_count": 5,
      "outputs": [
        {
          "output_type": "execute_result",
          "data": {
            "text/html": [
              "<div>\n",
              "<style scoped>\n",
              "    .dataframe tbody tr th:only-of-type {\n",
              "        vertical-align: middle;\n",
              "    }\n",
              "\n",
              "    .dataframe tbody tr th {\n",
              "        vertical-align: top;\n",
              "    }\n",
              "\n",
              "    .dataframe thead th {\n",
              "        text-align: right;\n",
              "    }\n",
              "</style>\n",
              "<table border=\"1\" class=\"dataframe\">\n",
              "  <thead>\n",
              "    <tr style=\"text-align: right;\">\n",
              "      <th></th>\n",
              "      <th>N</th>\n",
              "      <th>y</th>\n",
              "      <th>x</th>\n",
              "    </tr>\n",
              "  </thead>\n",
              "  <tbody>\n",
              "    <tr>\n",
              "      <th>count</th>\n",
              "      <td>100.0</td>\n",
              "      <td>100.000000</td>\n",
              "      <td>100.000000</td>\n",
              "    </tr>\n",
              "    <tr>\n",
              "      <th>mean</th>\n",
              "      <td>8.0</td>\n",
              "      <td>5.080000</td>\n",
              "      <td>9.967200</td>\n",
              "    </tr>\n",
              "    <tr>\n",
              "      <th>std</th>\n",
              "      <td>0.0</td>\n",
              "      <td>2.743882</td>\n",
              "      <td>1.088954</td>\n",
              "    </tr>\n",
              "    <tr>\n",
              "      <th>min</th>\n",
              "      <td>8.0</td>\n",
              "      <td>0.000000</td>\n",
              "      <td>7.660000</td>\n",
              "    </tr>\n",
              "    <tr>\n",
              "      <th>25%</th>\n",
              "      <td>8.0</td>\n",
              "      <td>3.000000</td>\n",
              "      <td>9.337500</td>\n",
              "    </tr>\n",
              "    <tr>\n",
              "      <th>50%</th>\n",
              "      <td>8.0</td>\n",
              "      <td>6.000000</td>\n",
              "      <td>9.965000</td>\n",
              "    </tr>\n",
              "    <tr>\n",
              "      <th>75%</th>\n",
              "      <td>8.0</td>\n",
              "      <td>8.000000</td>\n",
              "      <td>10.770000</td>\n",
              "    </tr>\n",
              "    <tr>\n",
              "      <th>max</th>\n",
              "      <td>8.0</td>\n",
              "      <td>8.000000</td>\n",
              "      <td>12.440000</td>\n",
              "    </tr>\n",
              "  </tbody>\n",
              "</table>\n",
              "</div>"
            ],
            "text/plain": [
              "           N           y           x\n",
              "count  100.0  100.000000  100.000000\n",
              "mean     8.0    5.080000    9.967200\n",
              "std      0.0    2.743882    1.088954\n",
              "min      8.0    0.000000    7.660000\n",
              "25%      8.0    3.000000    9.337500\n",
              "50%      8.0    6.000000    9.965000\n",
              "75%      8.0    8.000000   10.770000\n",
              "max      8.0    8.000000   12.440000"
            ]
          },
          "metadata": {
            "tags": []
          },
          "execution_count": 5
        }
      ]
    },
    {
      "cell_type": "code",
      "metadata": {
        "id": "jVMXVAhzm16f",
        "outputId": "bce86ad6-a92b-4d8f-9f9f-373bb75d6704",
        "colab": {
          "base_uri": "https://localhost:8080/",
          "height": 232
        }
      },
      "source": [
        "print(data.f)"
      ],
      "execution_count": 6,
      "outputs": [
        {
          "output_type": "stream",
          "text": [
            "0     C\n",
            "1     C\n",
            "2     C\n",
            "3     C\n",
            "4     C\n",
            "     ..\n",
            "95    T\n",
            "96    T\n",
            "97    T\n",
            "98    T\n",
            "99    T\n",
            "Name: f, Length: 100, dtype: object\n"
          ],
          "name": "stdout"
        }
      ]
    },
    {
      "cell_type": "code",
      "metadata": {
        "id": "YDJMlR3xtUQN",
        "outputId": "9a20fd38-ddd4-4932-ff18-f4ec82b57e7a",
        "colab": {
          "base_uri": "https://localhost:8080/",
          "height": 279
        }
      },
      "source": [
        "sns.scatterplot(x='x', y='y', hue='f', data=data)\n",
        "plt.show()"
      ],
      "execution_count": 7,
      "outputs": [
        {
          "output_type": "display_data",
          "data": {
            "image/png": "[encoded data removed]",
            "text/plain": [
              "<Figure size 432x288 with 1 Axes>"
            ]
          },
          "metadata": {
            "tags": [],
            "needs_background": "light"
          }
        }
      ]
    },
    {
      "cell_type": "code",
      "metadata": {
        "id": "iWWV0g3UsMWk",
        "outputId": "ad6005f8-c6fe-4e03-f512-1369e4843b3a",
        "colab": {
          "base_uri": "https://localhost:8080/",
          "height": 279
        }
      },
      "source": [
        "sns.boxplot(x='f', y='x', data=data)\n",
        "plt.show()"
      ],
      "execution_count": 9,
      "outputs": [
        {
          "output_type": "display_data",
          "data": {
            "image/png": "[encoded data removed]",
            "text/plain": [
              "<Figure size 432x288 with 1 Axes>"
            ]
          },
          "metadata": {
            "tags": [],
            "needs_background": "light"
          }
        }
      ]
    },
    {
      "cell_type": "markdown",
      "metadata": {
        "id": "1aVFu-Rmt1Ls"
      },
      "source": [
        "### 二項分布で表現する「あり・なし」カウントデータ\n",
        "\n",
        "二項分布とは、結果が2値であるベルヌーイの施行を独立にn回行った（上限がある）ときの確率変数をあらわす離散確率分布。\n"
      ]
    },
    {
      "cell_type": "markdown",
      "metadata": {
        "id": "nDxE1tKR2e5b"
      },
      "source": [
        "*Pr(y | N, q)* はN個の観察データ中、y個で事象が起こる確率\n"
      ]
    },
    {
      "cell_type": "code",
      "metadata": {
        "id": "MU-SSsYhtg9m",
        "outputId": "307a5f43-330a-44ee-a8d0-c8ae5b2f56b0",
        "colab": {
          "base_uri": "https://localhost:8080/",
          "height": 265
        }
      },
      "source": [
        "p_dicts =dict()\n",
        "for q in (0.1, 0.3, 0.8):\n",
        "    p_dict = dict()\n",
        "    for i in range(0, 9):\n",
        "        p_dict.update({i:0})\n",
        "    for _ in range(1000):\n",
        "        rnd = np.random.binomial(8,p=q)\n",
        "        p_dict[rnd] += 1\n",
        "    \n",
        "    for i in range(0, 9):\n",
        "        p_dict[i] /= 1000\n",
        "        \n",
        "    p_dicts.update({q: p_dict})\n",
        "\n",
        "for param,dictionary in p_dicts.items():\n",
        "    plt.plot(list(dictionary.keys()), list(dictionary.values()), label=str(param))\n",
        "    \n",
        "plt.legend()\n",
        "plt.show()"
      ],
      "execution_count": 18,
      "outputs": [
        {
          "output_type": "display_data",
          "data": {
            "image/png": "[encoded data removed]",
            "text/plain": [
              "<Figure size 432x288 with 1 Axes>"
            ]
          },
          "metadata": {
            "tags": [],
            "needs_background": "light"
          }
        }
      ]
    },
    {
      "cell_type": "code",
      "metadata": {
        "id": "WMBjGSlVCTpL"
      },
      "source": [
        ""
      ],
      "execution_count": null,
      "outputs": []
    }
  ]
}