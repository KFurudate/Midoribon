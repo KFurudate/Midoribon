{
  "nbformat": 4,
  "nbformat_minor": 0,
  "metadata": {
    "colab": {
      "name": "chap8.ipynb",
      "provenance": [],
      "authorship_tag": "ABX9TyN71vQEofrPLAcCkMczRHX6",
      "include_colab_link": true
    },
    "kernelspec": {
      "name": "python3",
      "display_name": "Python 3"
    }
  },
  "cells": [
    {
      "cell_type": "markdown",
      "metadata": {
        "id": "view-in-github",
        "colab_type": "text"
      },
      "source": [
        "<a href=\"https://colab.research.google.com/github/KFurudate/Midoribon/blob/main/chap8.ipynb\" target=\"_parent\"><img src=\"https://colab.research.google.com/assets/colab-badge.svg\" alt=\"Open In Colab\"/></a>"
      ]
    },
    {
      "cell_type": "markdown",
      "metadata": {
        "id": "FkTVp0-umkva"
      },
      "source": [
        "# 第8章 マルコフ連鎖モンテカルロ(MCMC)法とベイズ統計モデル\n"
      ]
    },
    {
      "cell_type": "code",
      "metadata": {
        "id": "e49aWS7Pmgij",
        "outputId": "83ef7557-d359-4fdd-88ce-31f86d7a5055",
        "colab": {
          "base_uri": "https://localhost:8080/",
          "height": 34
        }
      },
      "source": [
        "from google.colab import drive\n",
        "drive.mount('/content/drive')"
      ],
      "execution_count": 1,
      "outputs": [
        {
          "output_type": "stream",
          "text": [
            "Mounted at /content/drive\n"
          ],
          "name": "stdout"
        }
      ]
    },
    {
      "cell_type": "code",
      "metadata": {
        "id": "3uQTW_t9mnkr"
      },
      "source": [
        "import os\n",
        "import numpy as np\n",
        "import pandas as pd\n",
        "import matplotlib.pyplot as plt\n",
        "import seaborn as sns\n",
        "from scipy import stats\n",
        "%matplotlib inline"
      ],
      "execution_count": 2,
      "outputs": []
    },
    {
      "cell_type": "code",
      "metadata": {
        "id": "iSpFM9bGmtI6"
      },
      "source": [
        "data_dir = \"/content/drive/My Drive/Midoribon/input/\"\n",
        "data =  pd.read_csv(os.path.join(data_dir, 'chap8_data.csv'))"
      ],
      "execution_count": 3,
      "outputs": []
    },
    {
      "cell_type": "code",
      "metadata": {
        "id": "Q_BGOPA8mwSa",
        "outputId": "8ebf2d42-4a18-4a67-b18e-2164f7e4e0a4",
        "colab": {
          "base_uri": "https://localhost:8080/",
          "height": 634
        }
      },
      "source": [
        "print(len(data))\n",
        "data"
      ],
      "execution_count": 5,
      "outputs": [
        {
          "output_type": "stream",
          "text": [
            "20\n"
          ],
          "name": "stdout"
        },
        {
          "output_type": "execute_result",
          "data": {
            "text/html": [
              "<div>\n",
              "<style scoped>\n",
              "    .dataframe tbody tr th:only-of-type {\n",
              "        vertical-align: middle;\n",
              "    }\n",
              "\n",
              "    .dataframe tbody tr th {\n",
              "        vertical-align: top;\n",
              "    }\n",
              "\n",
              "    .dataframe thead th {\n",
              "        text-align: right;\n",
              "    }\n",
              "</style>\n",
              "<table border=\"1\" class=\"dataframe\">\n",
              "  <thead>\n",
              "    <tr style=\"text-align: right;\">\n",
              "      <th></th>\n",
              "      <th>y</th>\n",
              "      <th>N</th>\n",
              "    </tr>\n",
              "  </thead>\n",
              "  <tbody>\n",
              "    <tr>\n",
              "      <th>0</th>\n",
              "      <td>4</td>\n",
              "      <td>8</td>\n",
              "    </tr>\n",
              "    <tr>\n",
              "      <th>1</th>\n",
              "      <td>3</td>\n",
              "      <td>8</td>\n",
              "    </tr>\n",
              "    <tr>\n",
              "      <th>2</th>\n",
              "      <td>4</td>\n",
              "      <td>8</td>\n",
              "    </tr>\n",
              "    <tr>\n",
              "      <th>3</th>\n",
              "      <td>5</td>\n",
              "      <td>8</td>\n",
              "    </tr>\n",
              "    <tr>\n",
              "      <th>4</th>\n",
              "      <td>5</td>\n",
              "      <td>8</td>\n",
              "    </tr>\n",
              "    <tr>\n",
              "      <th>5</th>\n",
              "      <td>2</td>\n",
              "      <td>8</td>\n",
              "    </tr>\n",
              "    <tr>\n",
              "      <th>6</th>\n",
              "      <td>3</td>\n",
              "      <td>8</td>\n",
              "    </tr>\n",
              "    <tr>\n",
              "      <th>7</th>\n",
              "      <td>1</td>\n",
              "      <td>8</td>\n",
              "    </tr>\n",
              "    <tr>\n",
              "      <th>8</th>\n",
              "      <td>4</td>\n",
              "      <td>8</td>\n",
              "    </tr>\n",
              "    <tr>\n",
              "      <th>9</th>\n",
              "      <td>0</td>\n",
              "      <td>8</td>\n",
              "    </tr>\n",
              "    <tr>\n",
              "      <th>10</th>\n",
              "      <td>1</td>\n",
              "      <td>8</td>\n",
              "    </tr>\n",
              "    <tr>\n",
              "      <th>11</th>\n",
              "      <td>5</td>\n",
              "      <td>8</td>\n",
              "    </tr>\n",
              "    <tr>\n",
              "      <th>12</th>\n",
              "      <td>5</td>\n",
              "      <td>8</td>\n",
              "    </tr>\n",
              "    <tr>\n",
              "      <th>13</th>\n",
              "      <td>6</td>\n",
              "      <td>8</td>\n",
              "    </tr>\n",
              "    <tr>\n",
              "      <th>14</th>\n",
              "      <td>5</td>\n",
              "      <td>8</td>\n",
              "    </tr>\n",
              "    <tr>\n",
              "      <th>15</th>\n",
              "      <td>4</td>\n",
              "      <td>8</td>\n",
              "    </tr>\n",
              "    <tr>\n",
              "      <th>16</th>\n",
              "      <td>4</td>\n",
              "      <td>8</td>\n",
              "    </tr>\n",
              "    <tr>\n",
              "      <th>17</th>\n",
              "      <td>5</td>\n",
              "      <td>8</td>\n",
              "    </tr>\n",
              "    <tr>\n",
              "      <th>18</th>\n",
              "      <td>3</td>\n",
              "      <td>8</td>\n",
              "    </tr>\n",
              "    <tr>\n",
              "      <th>19</th>\n",
              "      <td>4</td>\n",
              "      <td>8</td>\n",
              "    </tr>\n",
              "  </tbody>\n",
              "</table>\n",
              "</div>"
            ],
            "text/plain": [
              "    y  N\n",
              "0   4  8\n",
              "1   3  8\n",
              "2   4  8\n",
              "3   5  8\n",
              "4   5  8\n",
              "5   2  8\n",
              "6   3  8\n",
              "7   1  8\n",
              "8   4  8\n",
              "9   0  8\n",
              "10  1  8\n",
              "11  5  8\n",
              "12  5  8\n",
              "13  6  8\n",
              "14  5  8\n",
              "15  4  8\n",
              "16  4  8\n",
              "17  5  8\n",
              "18  3  8\n",
              "19  4  8"
            ]
          },
          "metadata": {
            "tags": []
          },
          "execution_count": 5
        }
      ]
    },
    {
      "cell_type": "code",
      "metadata": {
        "id": "PNVr1EBYmz6m",
        "outputId": "671bfc46-c72e-4240-93ea-60d1cf207bd0",
        "colab": {
          "base_uri": "https://localhost:8080/",
          "height": 274
        }
      },
      "source": [
        "data.describe()"
      ],
      "execution_count": 6,
      "outputs": [
        {
          "output_type": "execute_result",
          "data": {
            "text/html": [
              "<div>\n",
              "<style scoped>\n",
              "    .dataframe tbody tr th:only-of-type {\n",
              "        vertical-align: middle;\n",
              "    }\n",
              "\n",
              "    .dataframe tbody tr th {\n",
              "        vertical-align: top;\n",
              "    }\n",
              "\n",
              "    .dataframe thead th {\n",
              "        text-align: right;\n",
              "    }\n",
              "</style>\n",
              "<table border=\"1\" class=\"dataframe\">\n",
              "  <thead>\n",
              "    <tr style=\"text-align: right;\">\n",
              "      <th></th>\n",
              "      <th>y</th>\n",
              "      <th>N</th>\n",
              "    </tr>\n",
              "  </thead>\n",
              "  <tbody>\n",
              "    <tr>\n",
              "      <th>count</th>\n",
              "      <td>20.000000</td>\n",
              "      <td>20.0</td>\n",
              "    </tr>\n",
              "    <tr>\n",
              "      <th>mean</th>\n",
              "      <td>3.650000</td>\n",
              "      <td>8.0</td>\n",
              "    </tr>\n",
              "    <tr>\n",
              "      <th>std</th>\n",
              "      <td>1.598519</td>\n",
              "      <td>0.0</td>\n",
              "    </tr>\n",
              "    <tr>\n",
              "      <th>min</th>\n",
              "      <td>0.000000</td>\n",
              "      <td>8.0</td>\n",
              "    </tr>\n",
              "    <tr>\n",
              "      <th>25%</th>\n",
              "      <td>3.000000</td>\n",
              "      <td>8.0</td>\n",
              "    </tr>\n",
              "    <tr>\n",
              "      <th>50%</th>\n",
              "      <td>4.000000</td>\n",
              "      <td>8.0</td>\n",
              "    </tr>\n",
              "    <tr>\n",
              "      <th>75%</th>\n",
              "      <td>5.000000</td>\n",
              "      <td>8.0</td>\n",
              "    </tr>\n",
              "    <tr>\n",
              "      <th>max</th>\n",
              "      <td>6.000000</td>\n",
              "      <td>8.0</td>\n",
              "    </tr>\n",
              "  </tbody>\n",
              "</table>\n",
              "</div>"
            ],
            "text/plain": [
              "               y     N\n",
              "count  20.000000  20.0\n",
              "mean    3.650000   8.0\n",
              "std     1.598519   0.0\n",
              "min     0.000000   8.0\n",
              "25%     3.000000   8.0\n",
              "50%     4.000000   8.0\n",
              "75%     5.000000   8.0\n",
              "max     6.000000   8.0"
            ]
          },
          "metadata": {
            "tags": []
          },
          "execution_count": 6
        }
      ]
    },
    {
      "cell_type": "code",
      "metadata": {
        "id": "YDJMlR3xtUQN",
        "outputId": "693d958b-d629-4e65-db8d-51dcb8b83809",
        "colab": {
          "base_uri": "https://localhost:8080/",
          "height": 265
        }
      },
      "source": [
        "data.y.hist(bins=data.y.max()+1)\n",
        "plt.show()"
      ],
      "execution_count": 22,
      "outputs": [
        {
          "output_type": "display_data",
          "data": {
            "image/png": "[encoded data removed]",
            "text/plain": [
              "<Figure size 432x288 with 1 Axes>"
            ]
          },
          "metadata": {
            "tags": [],
            "needs_background": "light"
          }
        }
      ]
    },
    {
      "cell_type": "markdown",
      "metadata": {
        "id": "1co81sNkBbxS"
      },
      "source": [
        "生存種子数$y_i$が二項分布に従うと仮定する\n",
        "$$\n",
        "p(y_i | q) = \\binom{8}{y_i} q^{y_i} (1-q)^{8-y_i}\n",
        "$$\n",
        "\n",
        "尤度$L(q)$は、「データが得られる確率」の積\n",
        "$$\n",
        "L(q) = p({\\bf{Y}}|q) = \\prod_i p(y_i|q)\n",
        "$$\n",
        "両辺の対数を取ると、\n",
        "$$\n",
        "\\log L(q) = \\sum_i \\{ y_i \\log q +(8-y_i) log(1-q)\\} + \\bf{const}\n",
        "$$"
      ]
    },
    {
      "cell_type": "markdown",
      "metadata": {
        "id": "IvxXIEPF8kzN"
      },
      "source": [
        "### ロジスティック回帰とロジットリンク関数\n",
        "\n",
        "GLMは、確率分布・リンク関数・線形予測子を指定し、足し算の数式であらわされるモデル（線形モデル）。\n",
        "ロジスティック回帰は、二項分布(確率分布)、ロジットリンク関数(リンク関数)を用いる。\n",
        "\n",
        "$$\n",
        "q_i = logistic (z_i) = \\frac{1} {1+\\exp(-z_i)}\n",
        "$$\n",
        "\n",
        "ziは、線形予測子で、 $z_i = \\beta_1 + \\beta_2 x_i + ...$"
      ]
    },
    {
      "cell_type": "code",
      "metadata": {
        "id": "WMBjGSlVCTpL",
        "outputId": "13a4142d-e20d-4bf4-897c-41a2123a7a52",
        "colab": {
          "base_uri": "https://localhost:8080/",
          "height": 265
        }
      },
      "source": [
        "def sigmoid(zi):\n",
        "    return 1 /(1+np.exp(-zi))\n",
        "\n",
        "zi = np.arange(-6, 6, 0.1)\n",
        "qi = sigmoid(zi)\n",
        "\n",
        "plt.plot(zi, qi)\n",
        "ｐｌｔ.show()"
      ],
      "execution_count": 23,
      "outputs": [
        {
          "output_type": "display_data",
          "data": {
            "image/png": "[encoded data removed]",
            "text/plain": [
              "<Figure size 432x288 with 1 Axes>"
            ]
          },
          "metadata": {
            "tags": [],
            "needs_background": "light"
          }
        }
      ]
    },
    {
      "cell_type": "markdown",
      "metadata": {
        "id": "34hDDWXU_1R9"
      },
      "source": [
        "ロジット関数は、ロジスティック関数の逆関数である。\n",
        "\n",
        "$$\n",
        "logit(q_i)=\\log \\frac {q_i}{1-q_i}\n",
        "$$"
      ]
    },
    {
      "cell_type": "code",
      "metadata": {
        "id": "cTT-SpwU-rJd",
        "outputId": "f74e6b1c-d19e-403e-e70d-a2b6eb5b6f4c",
        "colab": {
          "base_uri": "https://localhost:8080/",
          "height": 199
        }
      },
      "source": [
        "# # 二項分布に従うと仮定して、y=β1の線形予測子とロジットリンク関数でモデルを作成\n",
        "import statsmodels.api as sm\n",
        "import statsmodels.formula.api as smf\n",
        "\n",
        "model = smf.glm('y + I(N-y)~ 1', data=data, family=sm.families.Binomial())\n",
        "result = model.fit()\n",
        "result.summary2()"
      ],
      "execution_count": 25,
      "outputs": [
        {
          "output_type": "execute_result",
          "data": {
            "text/html": [
              "<table class=\"simpletable\">\n",
              "<tr>\n",
              "        <td>Model:</td>               <td>GLM</td>             <td>AIC:</td>        <td>77.4957</td>\n",
              "</tr>\n",
              "<tr>\n",
              "    <td>Link Function:</td>          <td>logit</td>            <td>BIC:</td>       <td>-28.1970</td>\n",
              "</tr>\n",
              "<tr>\n",
              "  <td>Dependent Variable:</td> <td>['y', 'I(N - y)']</td> <td>Log-Likelihood:</td>  <td>-37.748</td>\n",
              "</tr>\n",
              "<tr>\n",
              "         <td>Date:</td>        <td>2020-10-04 19:14</td>     <td>LL-Null:</td>      <td>-37.748</td>\n",
              "</tr>\n",
              "<tr>\n",
              "   <td>No. Observations:</td>         <td>20</td>            <td>Deviance:</td>     <td>28.722</td> \n",
              "</tr>\n",
              "<tr>\n",
              "       <td>Df Model:</td>              <td>0</td>          <td>Pearson chi2:</td>    <td>24.5</td>  \n",
              "</tr>\n",
              "<tr>\n",
              "     <td>Df Residuals:</td>           <td>19</td>             <td>Scale:</td>       <td>1.0000</td> \n",
              "</tr>\n",
              "<tr>\n",
              "        <td>Method:</td>             <td>IRLS</td>               <td></td>             <td></td>    \n",
              "</tr>\n",
              "</table>\n",
              "<table class=\"simpletable\">\n",
              "<tr>\n",
              "      <td></td>       <th>Coef.</th>  <th>Std.Err.</th>    <th>z</th>     <th>P>|z|</th> <th>[0.025</th>  <th>0.975]</th>\n",
              "</tr>\n",
              "<tr>\n",
              "  <th>Intercept</th> <td>-0.1754</td>  <td>0.1587</td>  <td>-1.1054</td> <td>0.2690</td> <td>-0.4865</td> <td>0.1356</td>\n",
              "</tr>\n",
              "</table>"
            ],
            "text/plain": [
              "<class 'statsmodels.iolib.summary2.Summary'>\n",
              "\"\"\"\n",
              "              Results: Generalized linear model\n",
              "==============================================================\n",
              "Model:              GLM               AIC:            77.4957 \n",
              "Link Function:      logit             BIC:            -28.1970\n",
              "Dependent Variable: ['y', 'I(N - y)'] Log-Likelihood: -37.748 \n",
              "Date:               2020-10-04 19:14  LL-Null:        -37.748 \n",
              "No. Observations:   20                Deviance:       28.722  \n",
              "Df Model:           0                 Pearson chi2:   24.5    \n",
              "Df Residuals:       19                Scale:          1.0000  \n",
              "Method:             IRLS                                      \n",
              "---------------------------------------------------------------\n",
              "             Coef.   Std.Err.     z     P>|z|    [0.025  0.975]\n",
              "---------------------------------------------------------------\n",
              "Intercept   -0.1754    0.1587  -1.1054  0.2690  -0.4865  0.1356\n",
              "==============================================================\n",
              "\n",
              "\"\"\""
            ]
          },
          "metadata": {
            "tags": []
          },
          "execution_count": 25
        }
      ]
    },
    {
      "cell_type": "code",
      "metadata": {
        "id": "iLvXS09pKHGn"
      },
      "source": [
        "β1 = -0.1754\t"
      ],
      "execution_count": 45,
      "outputs": []
    },
    {
      "cell_type": "code",
      "metadata": {
        "id": "m2KrFTA5Fdr3",
        "outputId": "df82ab64-66e9-469a-804a-9e83b63999ee",
        "colab": {
          "base_uri": "https://localhost:8080/",
          "height": 34
        }
      },
      "source": [
        "#生存確率（データYのもとでの最尤推定値）\n",
        "p = sigmoid(β1)\n",
        "p"
      ],
      "execution_count": 46,
      "outputs": [
        {
          "output_type": "execute_result",
          "data": {
            "text/plain": [
              "0.45626207623047454"
            ]
          },
          "metadata": {
            "tags": []
          },
          "execution_count": 46
        }
      ]
    },
    {
      "cell_type": "code",
      "metadata": {
        "id": "GgnbKeyuF8kO",
        "outputId": "ca8b1145-fa4b-4f2a-a4c0-a0633a9a9d70",
        "colab": {
          "base_uri": "https://localhost:8080/",
          "height": 265
        }
      },
      "source": [
        "x = range(9)\n",
        "binomial = stats.binom.pmf(x, 8, p)*20\n",
        "plt.plot(x, binomial, \"ro--\")\n",
        "\n",
        "data.y.hist(bins=data.y.max()+1)\n",
        "plt.show()"
      ],
      "execution_count": 52,
      "outputs": [
        {
          "output_type": "display_data",
          "data": {
            "image/png": "[encoded data removed]",
            "text/plain": [
              "<Figure size 432x288 with 1 Axes>"
            ]
          },
          "metadata": {
            "tags": [],
            "needs_background": "light"
          }
        }
      ]
    },
    {
      "cell_type": "code",
      "metadata": {
        "id": "ymFOY8FsCvK-",
        "outputId": "3c010e71-527a-474c-ff72-aab428438aa8",
        "colab": {
          "base_uri": "https://localhost:8080/",
          "height": 283
        }
      },
      "source": [
        "Q = np.arange(0.3, 0.6, 0.01)\n",
        "logL = []\n",
        "for q in Q:\n",
        "  logL.append(sum([stats.binom.logpmf(i, 8, q) for i in data.y]))\n",
        "logL = np.array(logL)\n",
        "plt.plot(Q, logL)\n",
        "plt.axvline(Q[logL.argmax()], color='red', linestyle='dotted')\n",
        "\n",
        "plt.ylabel(\"log likelihood\")\n",
        "plt.show()\n",
        "print(f\"生存率 q: {round(P[logL.argmax()], 2)}　で対数尤度が最大（最尤推定値）\")"
      ],
      "execution_count": 148,
      "outputs": [
        {
          "output_type": "display_data",
          "data": {
            "image/png": "[encoded data removed]",
            "text/plain": [
              "<Figure size 432x288 with 1 Axes>"
            ]
          },
          "metadata": {
            "tags": [],
            "needs_background": "light"
          }
        },
        {
          "output_type": "stream",
          "text": [
            "生存率 q: 0.46　で対数尤度が最大（最尤推定値）\n"
          ],
          "name": "stdout"
        }
      ]
    },
    {
      "cell_type": "code",
      "metadata": {
        "id": "p9AsW-BV517y"
      },
      "source": [
        ""
      ],
      "execution_count": null,
      "outputs": []
    }
  ]
}