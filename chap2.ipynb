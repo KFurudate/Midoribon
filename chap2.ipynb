{
  "nbformat": 4,
  "nbformat_minor": 0,
  "metadata": {
    "colab": {
      "name": "chap2.ipynb",
      "provenance": [],
      "authorship_tag": "ABX9TyPoXGQtThPILjAHCgNRizdL",
      "include_colab_link": true
    },
    "kernelspec": {
      "name": "python3",
      "display_name": "Python 3"
    }
  },
  "cells": [
    {
      "cell_type": "markdown",
      "metadata": {
        "id": "view-in-github",
        "colab_type": "text"
      },
      "source": [
        "<a href=\"https://colab.research.google.com/github/KFurudate/Midoribon/blob/main/chap2.ipynb\" target=\"_parent\"><img src=\"https://colab.research.google.com/assets/colab-badge.svg\" alt=\"Open In Colab\"/></a>"
      ]
    },
    {
      "cell_type": "markdown",
      "metadata": {
        "id": "zchlXOpmKoH4"
      },
      "source": [
        "# 第2章 確率分布と統計モデルの最尤推定"
      ]
    },
    {
      "cell_type": "code",
      "metadata": {
        "id": "DLluTOWrKglC",
        "outputId": "6555e63a-c6a1-4760-9479-7d717501b0f0",
        "colab": {
          "base_uri": "https://localhost:8080/",
          "height": 34
        }
      },
      "source": [
        "from google.colab import drive\n",
        "drive.mount('/content/drive')"
      ],
      "execution_count": 1,
      "outputs": [
        {
          "output_type": "stream",
          "text": [
            "Mounted at /content/drive\n"
          ],
          "name": "stdout"
        }
      ]
    },
    {
      "cell_type": "code",
      "metadata": {
        "id": "afpBoH-cMCcs"
      },
      "source": [
        "import os\n",
        "import numpy as np\n",
        "import pandas as pd\n",
        "import matplotlib.pyplot as plt\n",
        "from scipy import stats\n",
        "%matplotlib inline"
      ],
      "execution_count": 81,
      "outputs": []
    },
    {
      "cell_type": "code",
      "metadata": {
        "id": "DSqAmkZOLXwL"
      },
      "source": [
        "data_dir = \"/content/drive/My Drive/Midoribon/input/\"\n",
        "data =  pd.read_csv(os.path.join(data_dir, 'chap2_data.csv'))"
      ],
      "execution_count": 10,
      "outputs": []
    },
    {
      "cell_type": "code",
      "metadata": {
        "id": "9Z_aqyo-L8qU",
        "outputId": "2189c0a2-7c00-45cd-ee97-d62c0f6f13a6",
        "colab": {
          "base_uri": "https://localhost:8080/",
          "height": 207
        }
      },
      "source": [
        "print(len(data))\n",
        "data.head()"
      ],
      "execution_count": 13,
      "outputs": [
        {
          "output_type": "stream",
          "text": [
            "50\n"
          ],
          "name": "stdout"
        },
        {
          "output_type": "execute_result",
          "data": {
            "text/html": [
              "<div>\n",
              "<style scoped>\n",
              "    .dataframe tbody tr th:only-of-type {\n",
              "        vertical-align: middle;\n",
              "    }\n",
              "\n",
              "    .dataframe tbody tr th {\n",
              "        vertical-align: top;\n",
              "    }\n",
              "\n",
              "    .dataframe thead th {\n",
              "        text-align: right;\n",
              "    }\n",
              "</style>\n",
              "<table border=\"1\" class=\"dataframe\">\n",
              "  <thead>\n",
              "    <tr style=\"text-align: right;\">\n",
              "      <th></th>\n",
              "      <th>Unnamed: 0</th>\n",
              "      <th>x</th>\n",
              "    </tr>\n",
              "  </thead>\n",
              "  <tbody>\n",
              "    <tr>\n",
              "      <th>0</th>\n",
              "      <td>1</td>\n",
              "      <td>2</td>\n",
              "    </tr>\n",
              "    <tr>\n",
              "      <th>1</th>\n",
              "      <td>2</td>\n",
              "      <td>2</td>\n",
              "    </tr>\n",
              "    <tr>\n",
              "      <th>2</th>\n",
              "      <td>3</td>\n",
              "      <td>4</td>\n",
              "    </tr>\n",
              "    <tr>\n",
              "      <th>3</th>\n",
              "      <td>4</td>\n",
              "      <td>6</td>\n",
              "    </tr>\n",
              "    <tr>\n",
              "      <th>4</th>\n",
              "      <td>5</td>\n",
              "      <td>4</td>\n",
              "    </tr>\n",
              "  </tbody>\n",
              "</table>\n",
              "</div>"
            ],
            "text/plain": [
              "   Unnamed: 0  x\n",
              "0           1  2\n",
              "1           2  2\n",
              "2           3  4\n",
              "3           4  6\n",
              "4           5  4"
            ]
          },
          "metadata": {
            "tags": []
          },
          "execution_count": 13
        }
      ]
    },
    {
      "cell_type": "code",
      "metadata": {
        "id": "Qd9QjtqpMSov",
        "outputId": "90c358c8-7037-4f4f-fdad-ab8001559b95",
        "colab": {
          "base_uri": "https://localhost:8080/",
          "height": 274
        }
      },
      "source": [
        "data.describe()"
      ],
      "execution_count": 15,
      "outputs": [
        {
          "output_type": "execute_result",
          "data": {
            "text/html": [
              "<div>\n",
              "<style scoped>\n",
              "    .dataframe tbody tr th:only-of-type {\n",
              "        vertical-align: middle;\n",
              "    }\n",
              "\n",
              "    .dataframe tbody tr th {\n",
              "        vertical-align: top;\n",
              "    }\n",
              "\n",
              "    .dataframe thead th {\n",
              "        text-align: right;\n",
              "    }\n",
              "</style>\n",
              "<table border=\"1\" class=\"dataframe\">\n",
              "  <thead>\n",
              "    <tr style=\"text-align: right;\">\n",
              "      <th></th>\n",
              "      <th>Unnamed: 0</th>\n",
              "      <th>x</th>\n",
              "    </tr>\n",
              "  </thead>\n",
              "  <tbody>\n",
              "    <tr>\n",
              "      <th>count</th>\n",
              "      <td>50.00000</td>\n",
              "      <td>50.00000</td>\n",
              "    </tr>\n",
              "    <tr>\n",
              "      <th>mean</th>\n",
              "      <td>25.50000</td>\n",
              "      <td>3.56000</td>\n",
              "    </tr>\n",
              "    <tr>\n",
              "      <th>std</th>\n",
              "      <td>14.57738</td>\n",
              "      <td>1.72804</td>\n",
              "    </tr>\n",
              "    <tr>\n",
              "      <th>min</th>\n",
              "      <td>1.00000</td>\n",
              "      <td>0.00000</td>\n",
              "    </tr>\n",
              "    <tr>\n",
              "      <th>25%</th>\n",
              "      <td>13.25000</td>\n",
              "      <td>2.00000</td>\n",
              "    </tr>\n",
              "    <tr>\n",
              "      <th>50%</th>\n",
              "      <td>25.50000</td>\n",
              "      <td>3.00000</td>\n",
              "    </tr>\n",
              "    <tr>\n",
              "      <th>75%</th>\n",
              "      <td>37.75000</td>\n",
              "      <td>4.75000</td>\n",
              "    </tr>\n",
              "    <tr>\n",
              "      <th>max</th>\n",
              "      <td>50.00000</td>\n",
              "      <td>7.00000</td>\n",
              "    </tr>\n",
              "  </tbody>\n",
              "</table>\n",
              "</div>"
            ],
            "text/plain": [
              "       Unnamed: 0         x\n",
              "count    50.00000  50.00000\n",
              "mean     25.50000   3.56000\n",
              "std      14.57738   1.72804\n",
              "min       1.00000   0.00000\n",
              "25%      13.25000   2.00000\n",
              "50%      25.50000   3.00000\n",
              "75%      37.75000   4.75000\n",
              "max      50.00000   7.00000"
            ]
          },
          "metadata": {
            "tags": []
          },
          "execution_count": 15
        }
      ]
    },
    {
      "cell_type": "code",
      "metadata": {
        "id": "gMjAFbPBMjfF",
        "outputId": "4bd61a92-2013-419d-96d4-ffbe8d1b2570",
        "colab": {
          "base_uri": "https://localhost:8080/",
          "height": 283
        }
      },
      "source": [
        "data.x.hist(bins=8)"
      ],
      "execution_count": 38,
      "outputs": [
        {
          "output_type": "execute_result",
          "data": {
            "text/plain": [
              "<matplotlib.axes._subplots.AxesSubplot at 0x7f47b73f89b0>"
            ]
          },
          "metadata": {
            "tags": []
          },
          "execution_count": 38
        },
        {
          "output_type": "display_data",
          "data": {
            "image/png": "[encoded data removed]",
            "text/plain": [
              "<Figure size 432x288 with 1 Axes>"
            ]
          },
          "metadata": {
            "tags": [],
            "needs_background": "light"
          }
        }
      ]
    },
    {
      "cell_type": "markdown",
      "metadata": {
        "id": "TaxzidQcOJ-d"
      },
      "source": [
        "### ポアソン分布(Poisson distribution)でデータを統計モデルとして表現する\n",
        "\n",
        "データの個体間のばらつきを近似的に表現するために、ポアソン分布を導入する。"
      ]
    },
    {
      "cell_type": "code",
      "metadata": {
        "id": "KD018rZ1MzMZ",
        "outputId": "d31c21a7-9d09-4a24-ce8f-d3f6f75513c9",
        "colab": {
          "base_uri": "https://localhost:8080/",
          "height": 265
        }
      },
      "source": [
        "#　平均3.56のポアソン分布\n",
        "y = range(10)\n",
        "x = stats.poisson.pmf(y, mu=3.56)\n",
        "plt.plot(y, x, \"ro--\")\n",
        "plt.show()"
      ],
      "execution_count": 82,
      "outputs": [
        {
          "output_type": "display_data",
          "data": {
            "image/png": "[encoded data removed]",
            "text/plain": [
              "<Figure size 432x288 with 1 Axes>"
            ]
          },
          "metadata": {
            "tags": [],
            "needs_background": "light"
          }
        }
      ]
    },
    {
      "cell_type": "markdown",
      "metadata": {
        "id": "gMJlE18nQrMj"
      },
      "source": [
        "統計モデリングは、確率分布を使えば、ばらつきのある事象・現象を記述できる。"
      ]
    },
    {
      "cell_type": "code",
      "metadata": {
        "id": "cQpD_1usO6c4",
        "outputId": "41579d94-403b-4b20-e26c-311ca0023e24",
        "colab": {
          "base_uri": "https://localhost:8080/",
          "height": 265
        }
      },
      "source": [
        "fig,ax1=plt.subplots()\n",
        "ax1 = data.x.hist(bins=8)\n",
        "ax2 = ax1.twinx()\n",
        "ax2.plot(y, x, \"ro--\")\n",
        "plt.show()"
      ],
      "execution_count": 83,
      "outputs": [
        {
          "output_type": "display_data",
          "data": {
            "image/png": "[encoded data removed]",
            "text/plain": [
              "<Figure size 432x288 with 2 Axes>"
            ]
          },
          "metadata": {
            "tags": [],
            "needs_background": "light"
          }
        }
      ]
    },
    {
      "cell_type": "markdown",
      "metadata": {
        "id": "JXgeTwSAT57i"
      },
      "source": [
        "### ポアソン分布のパラメーターの最尤推定\n",
        "\n",
        "* 最尤推定は、得られたデータに対するあてはまりの良さ（尤度）を最大にするようなパラメーターの値を探そうとするパラメーター推定方法。\n",
        "* 尤度は、パラメーターの関数。あるパラメーター（λ）を決めたときにすべての個体（xi）の確率 Pr(xi | λ)の積（同時確率）"
      ]
    },
    {
      "cell_type": "code",
      "metadata": {
        "id": "k2pgFJBoZQnv",
        "outputId": "39c641b0-aae8-4672-d8e2-386cec340758",
        "colab": {
          "base_uri": "https://localhost:8080/",
          "height": 283
        }
      },
      "source": [
        "X = np.arange(2, 5, 0.1)\n",
        "logL = np.array([sum(stats.poisson.logpmf(data, x)) for x in X])\n",
        "plt.plot(X, logL[:, 1])\n",
        "plt.axvline(X[logL[:, 1].argmax()], color='red', linestyle='dotted')\n",
        "\n",
        "plt.ylabel(\"log likelihood\")\n",
        "plt.show()\n",
        "print(f\"λ: {round(X[logL[:, 1].argmax()], 2)}　で対数尤度が最大（最尤推定値）\")"
      ],
      "execution_count": 112,
      "outputs": [
        {
          "output_type": "display_data",
          "data": {
            "image/png": "[encoded data removed]",
            "text/plain": [
              "<Figure size 432x288 with 1 Axes>"
            ]
          },
          "metadata": {
            "tags": [],
            "needs_background": "light"
          }
        },
        {
          "output_type": "stream",
          "text": [
            "λ: 3.6　で対数尤度が最大（最尤推定値）\n"
          ],
          "name": "stdout"
        }
      ]
    },
    {
      "cell_type": "markdown",
      "metadata": {
        "id": "kjfgmw4xfmnt"
      },
      "source": [
        "### 擬似乱数と最尤推定値のばらつき"
      ]
    },
    {
      "cell_type": "code",
      "metadata": {
        "id": "ytD49Ca0fqIA",
        "outputId": "ce3e7072-c75a-4d9d-a1de-8b53541d6d96",
        "colab": {
          "base_uri": "https://localhost:8080/",
          "height": 283
        }
      },
      "source": [
        "# 平均3.56のポアソン分布から乱数を50個生成する\n",
        "\n",
        "x = np.random.poisson(lam=3.56,　size=50)\n",
        "x = pd.Series(x)\n",
        "\n",
        "x.hist(bins=np.arange(x.max())-0.5)"
      ],
      "execution_count": 117,
      "outputs": [
        {
          "output_type": "execute_result",
          "data": {
            "text/plain": [
              "<matplotlib.axes._subplots.AxesSubplot at 0x7f47b426d198>"
            ]
          },
          "metadata": {
            "tags": []
          },
          "execution_count": 117
        },
        {
          "output_type": "display_data",
          "data": {
            "image/png": "[encoded data removed]",
            "text/plain": [
              "<Figure size 432x288 with 1 Axes>"
            ]
          },
          "metadata": {
            "tags": [],
            "needs_background": "light"
          }
        }
      ]
    },
    {
      "cell_type": "code",
      "metadata": {
        "id": "jL5K4qE6hUkF",
        "outputId": "34606be3-18eb-4bad-e566-7b06a9a7c5ec",
        "colab": {
          "base_uri": "https://localhost:8080/",
          "height": 178
        }
      },
      "source": [
        "x.describe()"
      ],
      "execution_count": 118,
      "outputs": [
        {
          "output_type": "execute_result",
          "data": {
            "text/plain": [
              "count    50.000000\n",
              "mean      4.160000\n",
              "std       1.811077\n",
              "min       0.000000\n",
              "25%       3.000000\n",
              "50%       4.000000\n",
              "75%       5.750000\n",
              "max       8.000000\n",
              "dtype: float64"
            ]
          },
          "metadata": {
            "tags": []
          },
          "execution_count": 118
        }
      ]
    },
    {
      "cell_type": "code",
      "metadata": {
        "id": "F_CHMnNphrda",
        "outputId": "b62d5232-1f46-484b-ce27-78f8332244d8",
        "colab": {
          "base_uri": "https://localhost:8080/",
          "height": 265
        }
      },
      "source": [
        "# 平均3.56のポアソン乱数50個を生成し、3000回最尤推定値を求めたときのばらつき（標準誤差）\n",
        "cnt = [np.random.poisson(lam=3.56, size=50).mean() for _ in range(3000)]\n",
        "plt.hist(cnt, bins=np.arange(2.5, 4.5, 0.1))\n",
        "plt.show()"
      ],
      "execution_count": 123,
      "outputs": [
        {
          "output_type": "display_data",
          "data": {
            "image/png": "[encoded data removed]",
            "text/plain": [
              "<Figure size 432x288 with 1 Axes>"
            ]
          },
          "metadata": {
            "tags": [],
            "needs_background": "light"
          }
        }
      ]
    },
    {
      "cell_type": "code",
      "metadata": {
        "id": "T07GaklliPv7",
        "outputId": "08c5a209-21c5-4220-d293-912c054fc1d0",
        "colab": {
          "base_uri": "https://localhost:8080/",
          "height": 267
        }
      },
      "source": [
        "# 平均3.56のポアソン乱数500個を生成し、3000回最尤推定値を求めたときのばらつき（標準誤差）\n",
        "cnt = [np.random.poisson(lam=3.56, size=500).mean() for _ in range(3000)]\n",
        "plt.hist(cnt, bins=np.arange(2.5, 4.5, 0.1))\n",
        "plt.show()"
      ],
      "execution_count": 125,
      "outputs": [
        {
          "output_type": "display_data",
          "data": {
            "image/png": "[encoded data removed]",
            "text/plain": [
              "<Figure size 432x288 with 1 Axes>"
            ]
          },
          "metadata": {
            "tags": [],
            "needs_background": "light"
          }
        }
      ]
    },
    {
      "cell_type": "code",
      "metadata": {
        "id": "bOLLahO3jPzx"
      },
      "source": [
        ""
      ],
      "execution_count": null,
      "outputs": []
    }
  ]
}