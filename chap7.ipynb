{
  "nbformat": 4,
  "nbformat_minor": 0,
  "metadata": {
    "colab": {
      "name": "chap7.ipynb",
      "provenance": [],
      "authorship_tag": "ABX9TyMJkiLIEDJX258piWK2tYgL",
      "include_colab_link": true
    },
    "kernelspec": {
      "name": "python3",
      "display_name": "Python 3"
    }
  },
  "cells": [
    {
      "cell_type": "markdown",
      "metadata": {
        "id": "view-in-github",
        "colab_type": "text"
      },
      "source": [
        "<a href=\"https://colab.research.google.com/github/KFurudate/Midoribon/blob/main/chap7.ipynb\" target=\"_parent\"><img src=\"https://colab.research.google.com/assets/colab-badge.svg\" alt=\"Open In Colab\"/></a>"
      ]
    },
    {
      "cell_type": "markdown",
      "metadata": {
        "id": "FkTVp0-umkva"
      },
      "source": [
        "# 第7章 一般線形混合モデル(GLMM) -個体差のモデリング-\n"
      ]
    },
    {
      "cell_type": "code",
      "metadata": {
        "id": "e49aWS7Pmgij",
        "outputId": "868872d8-4cc5-41e9-fcd3-8ece0c54bdc9",
        "colab": {
          "base_uri": "https://localhost:8080/",
          "height": 34
        }
      },
      "source": [
        "from google.colab import drive\n",
        "drive.mount('/content/drive')"
      ],
      "execution_count": 1,
      "outputs": [
        {
          "output_type": "stream",
          "text": [
            "Mounted at /content/drive\n"
          ],
          "name": "stdout"
        }
      ]
    },
    {
      "cell_type": "code",
      "metadata": {
        "id": "3uQTW_t9mnkr"
      },
      "source": [
        "import os\n",
        "import numpy as np\n",
        "import pandas as pd\n",
        "import matplotlib.pyplot as plt\n",
        "import seaborn as sns\n",
        "from scipy import stats\n",
        "%matplotlib inline"
      ],
      "execution_count": 18,
      "outputs": []
    },
    {
      "cell_type": "code",
      "metadata": {
        "id": "iSpFM9bGmtI6"
      },
      "source": [
        "data_dir = \"/content/drive/My Drive/Midoribon/input/\"\n",
        "data =  pd.read_csv(os.path.join(data_dir, 'chap7_data.csv'))"
      ],
      "execution_count": 19,
      "outputs": []
    },
    {
      "cell_type": "code",
      "metadata": {
        "id": "Q_BGOPA8mwSa",
        "outputId": "d21b6569-1096-4e17-eb3b-ea7f3c17da85",
        "colab": {
          "base_uri": "https://localhost:8080/",
          "height": 207
        }
      },
      "source": [
        "print(len(data))\n",
        "data.head()"
      ],
      "execution_count": 20,
      "outputs": [
        {
          "output_type": "stream",
          "text": [
            "100\n"
          ],
          "name": "stdout"
        },
        {
          "output_type": "execute_result",
          "data": {
            "text/html": [
              "<div>\n",
              "<style scoped>\n",
              "    .dataframe tbody tr th:only-of-type {\n",
              "        vertical-align: middle;\n",
              "    }\n",
              "\n",
              "    .dataframe tbody tr th {\n",
              "        vertical-align: top;\n",
              "    }\n",
              "\n",
              "    .dataframe thead th {\n",
              "        text-align: right;\n",
              "    }\n",
              "</style>\n",
              "<table border=\"1\" class=\"dataframe\">\n",
              "  <thead>\n",
              "    <tr style=\"text-align: right;\">\n",
              "      <th></th>\n",
              "      <th>N</th>\n",
              "      <th>y</th>\n",
              "      <th>x</th>\n",
              "      <th>id</th>\n",
              "    </tr>\n",
              "  </thead>\n",
              "  <tbody>\n",
              "    <tr>\n",
              "      <th>0</th>\n",
              "      <td>8</td>\n",
              "      <td>0</td>\n",
              "      <td>2</td>\n",
              "      <td>1</td>\n",
              "    </tr>\n",
              "    <tr>\n",
              "      <th>1</th>\n",
              "      <td>8</td>\n",
              "      <td>1</td>\n",
              "      <td>2</td>\n",
              "      <td>2</td>\n",
              "    </tr>\n",
              "    <tr>\n",
              "      <th>2</th>\n",
              "      <td>8</td>\n",
              "      <td>2</td>\n",
              "      <td>2</td>\n",
              "      <td>3</td>\n",
              "    </tr>\n",
              "    <tr>\n",
              "      <th>3</th>\n",
              "      <td>8</td>\n",
              "      <td>4</td>\n",
              "      <td>2</td>\n",
              "      <td>4</td>\n",
              "    </tr>\n",
              "    <tr>\n",
              "      <th>4</th>\n",
              "      <td>8</td>\n",
              "      <td>1</td>\n",
              "      <td>2</td>\n",
              "      <td>5</td>\n",
              "    </tr>\n",
              "  </tbody>\n",
              "</table>\n",
              "</div>"
            ],
            "text/plain": [
              "   N  y  x  id\n",
              "0  8  0  2   1\n",
              "1  8  1  2   2\n",
              "2  8  2  2   3\n",
              "3  8  4  2   4\n",
              "4  8  1  2   5"
            ]
          },
          "metadata": {
            "tags": []
          },
          "execution_count": 20
        }
      ]
    },
    {
      "cell_type": "code",
      "metadata": {
        "id": "PNVr1EBYmz6m",
        "outputId": "88954d38-db01-4e67-dfe3-f98fc6c5127a",
        "colab": {
          "base_uri": "https://localhost:8080/",
          "height": 274
        }
      },
      "source": [
        "data.describe()"
      ],
      "execution_count": 21,
      "outputs": [
        {
          "output_type": "execute_result",
          "data": {
            "text/html": [
              "<div>\n",
              "<style scoped>\n",
              "    .dataframe tbody tr th:only-of-type {\n",
              "        vertical-align: middle;\n",
              "    }\n",
              "\n",
              "    .dataframe tbody tr th {\n",
              "        vertical-align: top;\n",
              "    }\n",
              "\n",
              "    .dataframe thead th {\n",
              "        text-align: right;\n",
              "    }\n",
              "</style>\n",
              "<table border=\"1\" class=\"dataframe\">\n",
              "  <thead>\n",
              "    <tr style=\"text-align: right;\">\n",
              "      <th></th>\n",
              "      <th>N</th>\n",
              "      <th>y</th>\n",
              "      <th>x</th>\n",
              "      <th>id</th>\n",
              "    </tr>\n",
              "  </thead>\n",
              "  <tbody>\n",
              "    <tr>\n",
              "      <th>count</th>\n",
              "      <td>100.0</td>\n",
              "      <td>100.000000</td>\n",
              "      <td>100.000000</td>\n",
              "      <td>100.000000</td>\n",
              "    </tr>\n",
              "    <tr>\n",
              "      <th>mean</th>\n",
              "      <td>8.0</td>\n",
              "      <td>3.810000</td>\n",
              "      <td>4.000000</td>\n",
              "      <td>50.500000</td>\n",
              "    </tr>\n",
              "    <tr>\n",
              "      <th>std</th>\n",
              "      <td>0.0</td>\n",
              "      <td>3.070534</td>\n",
              "      <td>1.421338</td>\n",
              "      <td>29.011492</td>\n",
              "    </tr>\n",
              "    <tr>\n",
              "      <th>min</th>\n",
              "      <td>8.0</td>\n",
              "      <td>0.000000</td>\n",
              "      <td>2.000000</td>\n",
              "      <td>1.000000</td>\n",
              "    </tr>\n",
              "    <tr>\n",
              "      <th>25%</th>\n",
              "      <td>8.0</td>\n",
              "      <td>1.000000</td>\n",
              "      <td>3.000000</td>\n",
              "      <td>25.750000</td>\n",
              "    </tr>\n",
              "    <tr>\n",
              "      <th>50%</th>\n",
              "      <td>8.0</td>\n",
              "      <td>3.000000</td>\n",
              "      <td>4.000000</td>\n",
              "      <td>50.500000</td>\n",
              "    </tr>\n",
              "    <tr>\n",
              "      <th>75%</th>\n",
              "      <td>8.0</td>\n",
              "      <td>7.000000</td>\n",
              "      <td>5.000000</td>\n",
              "      <td>75.250000</td>\n",
              "    </tr>\n",
              "    <tr>\n",
              "      <th>max</th>\n",
              "      <td>8.0</td>\n",
              "      <td>8.000000</td>\n",
              "      <td>6.000000</td>\n",
              "      <td>100.000000</td>\n",
              "    </tr>\n",
              "  </tbody>\n",
              "</table>\n",
              "</div>"
            ],
            "text/plain": [
              "           N           y           x          id\n",
              "count  100.0  100.000000  100.000000  100.000000\n",
              "mean     8.0    3.810000    4.000000   50.500000\n",
              "std      0.0    3.070534    1.421338   29.011492\n",
              "min      8.0    0.000000    2.000000    1.000000\n",
              "25%      8.0    1.000000    3.000000   25.750000\n",
              "50%      8.0    3.000000    4.000000   50.500000\n",
              "75%      8.0    7.000000    5.000000   75.250000\n",
              "max      8.0    8.000000    6.000000  100.000000"
            ]
          },
          "metadata": {
            "tags": []
          },
          "execution_count": 21
        }
      ]
    },
    {
      "cell_type": "code",
      "metadata": {
        "id": "4LCOsI0vPUOZ",
        "outputId": "95be3de7-0c50-4556-a3b3-7ebed7150281",
        "colab": {
          "base_uri": "https://localhost:8080/",
          "height": 388
        }
      },
      "source": [
        "data[\"x2\"] = np.random.normal(loc=0, scale=0.1, size=100)\n",
        "data[\"x2\"] = data[\"x2\"] + data[\"x\"]\n",
        "data"
      ],
      "execution_count": 22,
      "outputs": [
        {
          "output_type": "execute_result",
          "data": {
            "text/html": [
              "<div>\n",
              "<style scoped>\n",
              "    .dataframe tbody tr th:only-of-type {\n",
              "        vertical-align: middle;\n",
              "    }\n",
              "\n",
              "    .dataframe tbody tr th {\n",
              "        vertical-align: top;\n",
              "    }\n",
              "\n",
              "    .dataframe thead th {\n",
              "        text-align: right;\n",
              "    }\n",
              "</style>\n",
              "<table border=\"1\" class=\"dataframe\">\n",
              "  <thead>\n",
              "    <tr style=\"text-align: right;\">\n",
              "      <th></th>\n",
              "      <th>N</th>\n",
              "      <th>y</th>\n",
              "      <th>x</th>\n",
              "      <th>id</th>\n",
              "      <th>x2</th>\n",
              "    </tr>\n",
              "  </thead>\n",
              "  <tbody>\n",
              "    <tr>\n",
              "      <th>0</th>\n",
              "      <td>8</td>\n",
              "      <td>0</td>\n",
              "      <td>2</td>\n",
              "      <td>1</td>\n",
              "      <td>1.983048</td>\n",
              "    </tr>\n",
              "    <tr>\n",
              "      <th>1</th>\n",
              "      <td>8</td>\n",
              "      <td>1</td>\n",
              "      <td>2</td>\n",
              "      <td>2</td>\n",
              "      <td>2.141159</td>\n",
              "    </tr>\n",
              "    <tr>\n",
              "      <th>2</th>\n",
              "      <td>8</td>\n",
              "      <td>2</td>\n",
              "      <td>2</td>\n",
              "      <td>3</td>\n",
              "      <td>2.065283</td>\n",
              "    </tr>\n",
              "    <tr>\n",
              "      <th>3</th>\n",
              "      <td>8</td>\n",
              "      <td>4</td>\n",
              "      <td>2</td>\n",
              "      <td>4</td>\n",
              "      <td>1.956236</td>\n",
              "    </tr>\n",
              "    <tr>\n",
              "      <th>4</th>\n",
              "      <td>8</td>\n",
              "      <td>1</td>\n",
              "      <td>2</td>\n",
              "      <td>5</td>\n",
              "      <td>2.023902</td>\n",
              "    </tr>\n",
              "    <tr>\n",
              "      <th>...</th>\n",
              "      <td>...</td>\n",
              "      <td>...</td>\n",
              "      <td>...</td>\n",
              "      <td>...</td>\n",
              "      <td>...</td>\n",
              "    </tr>\n",
              "    <tr>\n",
              "      <th>95</th>\n",
              "      <td>8</td>\n",
              "      <td>7</td>\n",
              "      <td>6</td>\n",
              "      <td>96</td>\n",
              "      <td>5.906905</td>\n",
              "    </tr>\n",
              "    <tr>\n",
              "      <th>96</th>\n",
              "      <td>8</td>\n",
              "      <td>5</td>\n",
              "      <td>6</td>\n",
              "      <td>97</td>\n",
              "      <td>6.133801</td>\n",
              "    </tr>\n",
              "    <tr>\n",
              "      <th>97</th>\n",
              "      <td>8</td>\n",
              "      <td>7</td>\n",
              "      <td>6</td>\n",
              "      <td>98</td>\n",
              "      <td>6.021231</td>\n",
              "    </tr>\n",
              "    <tr>\n",
              "      <th>98</th>\n",
              "      <td>8</td>\n",
              "      <td>2</td>\n",
              "      <td>6</td>\n",
              "      <td>99</td>\n",
              "      <td>5.889527</td>\n",
              "    </tr>\n",
              "    <tr>\n",
              "      <th>99</th>\n",
              "      <td>8</td>\n",
              "      <td>8</td>\n",
              "      <td>6</td>\n",
              "      <td>100</td>\n",
              "      <td>5.955293</td>\n",
              "    </tr>\n",
              "  </tbody>\n",
              "</table>\n",
              "<p>100 rows × 5 columns</p>\n",
              "</div>"
            ],
            "text/plain": [
              "    N  y  x   id        x2\n",
              "0   8  0  2    1  1.983048\n",
              "1   8  1  2    2  2.141159\n",
              "2   8  2  2    3  2.065283\n",
              "3   8  4  2    4  1.956236\n",
              "4   8  1  2    5  2.023902\n",
              ".. .. .. ..  ...       ...\n",
              "95  8  7  6   96  5.906905\n",
              "96  8  5  6   97  6.133801\n",
              "97  8  7  6   98  6.021231\n",
              "98  8  2  6   99  5.889527\n",
              "99  8  8  6  100  5.955293\n",
              "\n",
              "[100 rows x 5 columns]"
            ]
          },
          "metadata": {
            "tags": []
          },
          "execution_count": 22
        }
      ]
    },
    {
      "cell_type": "code",
      "metadata": {
        "id": "YDJMlR3xtUQN",
        "outputId": "8ef875be-ee2e-4959-c28c-dac74a5b0749",
        "colab": {
          "base_uri": "https://localhost:8080/",
          "height": 279
        }
      },
      "source": [
        "sns.scatterplot(x='x2', y='y', data=data)\n",
        "plt.show()"
      ],
      "execution_count": 23,
      "outputs": [
        {
          "output_type": "display_data",
          "data": {
            "image/png": "[encoded data removed]",
            "text/plain": [
              "<Figure size 432x288 with 1 Axes>"
            ]
          },
          "metadata": {
            "tags": [],
            "needs_background": "light"
          }
        }
      ]
    },
    {
      "cell_type": "markdown",
      "metadata": {
        "id": "IvxXIEPF8kzN"
      },
      "source": [
        "### ロジスティック回帰とロジットリンク関数\n",
        "\n",
        "GLMは、確率分布・リンク関数・線形予測子を指定し、足し算の数式であらわされるモデル（線形モデル）。\n",
        "ロジスティック回帰は、二項分布(確率分布)、ロジットリンク関数(リンク関数)を用いる。\n",
        "\n",
        "$$\n",
        "q_i = logistic (z_i) = \\frac{1} {1+\\exp(-z_i)}\n",
        "$$\n",
        "\n",
        "ziは、線形予測子で、 $z_i = \\beta_1 + \\beta_2 x_i + ...$"
      ]
    },
    {
      "cell_type": "code",
      "metadata": {
        "id": "WMBjGSlVCTpL",
        "outputId": "8ed0f391-e84f-4e41-9084-275a70b7ea22",
        "colab": {
          "base_uri": "https://localhost:8080/",
          "height": 265
        }
      },
      "source": [
        "def sigmoid(zi):\n",
        "    return 1 /(1+np.exp(-zi))\n",
        "\n",
        "zi = np.arange(-6, 6, 0.1)\n",
        "qi = sigmoid(zi)\n",
        "\n",
        "plt.plot(zi, qi)\n",
        "ｐｌｔ.show()"
      ],
      "execution_count": 25,
      "outputs": [
        {
          "output_type": "display_data",
          "data": {
            "image/png": "[encoded data removed]",
            "text/plain": [
              "<Figure size 432x288 with 1 Axes>"
            ]
          },
          "metadata": {
            "tags": [],
            "needs_background": "light"
          }
        }
      ]
    },
    {
      "cell_type": "markdown",
      "metadata": {
        "id": "34hDDWXU_1R9"
      },
      "source": [
        "ロジット関数は、ロジスティック関数の逆関数である。\n",
        "\n",
        "$$\n",
        "logit(q_i)=\\log \\frac {q_i}{1-q_i}\n",
        "$$"
      ]
    },
    {
      "cell_type": "code",
      "metadata": {
        "id": "cTT-SpwU-rJd",
        "outputId": "f0b6e5af-52fa-446e-d330-c8b859eae4fd",
        "colab": {
          "base_uri": "https://localhost:8080/",
          "height": 72
        }
      },
      "source": [
        "import statsmodels.api as sm\n",
        "import statsmodels.formula.api as smf\n",
        "\n",
        "model = smf.glm('y + I(N-y)~ x', data=data, family=sm.families.Binomial())"
      ],
      "execution_count": 26,
      "outputs": [
        {
          "output_type": "stream",
          "text": [
            "/usr/local/lib/python3.6/dist-packages/statsmodels/tools/_testing.py:19: FutureWarning: pandas.util.testing is deprecated. Use the functions in the public API at pandas.testing instead.\n",
            "  import pandas.util.testing as tm\n"
          ],
          "name": "stderr"
        }
      ]
    },
    {
      "cell_type": "code",
      "metadata": {
        "id": "_hM8Y1rIAwMJ",
        "outputId": "e8f609aa-5d6d-4f21-f3fb-43e6f7b16601",
        "colab": {
          "base_uri": "https://localhost:8080/",
          "height": 217
        }
      },
      "source": [
        "result = model.fit()\n",
        "result.summary2()"
      ],
      "execution_count": 28,
      "outputs": [
        {
          "output_type": "execute_result",
          "data": {
            "text/html": [
              "<table class=\"simpletable\">\n",
              "<tr>\n",
              "        <td>Model:</td>               <td>GLM</td>             <td>AIC:</td>       <td>649.6056</td>\n",
              "</tr>\n",
              "<tr>\n",
              "    <td>Link Function:</td>          <td>logit</td>            <td>BIC:</td>        <td>62.5296</td>\n",
              "</tr>\n",
              "<tr>\n",
              "  <td>Dependent Variable:</td> <td>['y', 'I(N - y)']</td> <td>Log-Likelihood:</td>  <td>-322.80</td>\n",
              "</tr>\n",
              "<tr>\n",
              "         <td>Date:</td>        <td>2020-10-04 15:45</td>     <td>LL-Null:</td>      <td>-369.60</td>\n",
              "</tr>\n",
              "<tr>\n",
              "   <td>No. Observations:</td>         <td>100</td>           <td>Deviance:</td>     <td>513.84</td> \n",
              "</tr>\n",
              "<tr>\n",
              "       <td>Df Model:</td>              <td>1</td>          <td>Pearson chi2:</td>    <td>428.</td>  \n",
              "</tr>\n",
              "<tr>\n",
              "     <td>Df Residuals:</td>           <td>98</td>             <td>Scale:</td>       <td>1.0000</td> \n",
              "</tr>\n",
              "<tr>\n",
              "        <td>Method:</td>             <td>IRLS</td>               <td></td>             <td></td>    \n",
              "</tr>\n",
              "</table>\n",
              "<table class=\"simpletable\">\n",
              "<tr>\n",
              "      <td></td>       <th>Coef.</th>  <th>Std.Err.</th>    <th>z</th>     <th>P>|z|</th> <th>[0.025</th>  <th>0.975]</th> \n",
              "</tr>\n",
              "<tr>\n",
              "  <th>Intercept</th> <td>-2.1487</td>  <td>0.2372</td>  <td>-9.0574</td> <td>0.0000</td> <td>-2.6137</td> <td>-1.6838</td>\n",
              "</tr>\n",
              "<tr>\n",
              "  <th>x</th>         <td>0.5104</td>   <td>0.0556</td>  <td>9.1790</td>  <td>0.0000</td> <td>0.4014</td>  <td>0.6194</td> \n",
              "</tr>\n",
              "</table>"
            ],
            "text/plain": [
              "<class 'statsmodels.iolib.summary2.Summary'>\n",
              "\"\"\"\n",
              "              Results: Generalized linear model\n",
              "==============================================================\n",
              "Model:              GLM               AIC:            649.6056\n",
              "Link Function:      logit             BIC:            62.5296 \n",
              "Dependent Variable: ['y', 'I(N - y)'] Log-Likelihood: -322.80 \n",
              "Date:               2020-10-04 15:45  LL-Null:        -369.60 \n",
              "No. Observations:   100               Deviance:       513.84  \n",
              "Df Model:           1                 Pearson chi2:   428.    \n",
              "Df Residuals:       98                Scale:          1.0000  \n",
              "Method:             IRLS                                      \n",
              "---------------------------------------------------------------\n",
              "            Coef.   Std.Err.     z     P>|z|    [0.025   0.975]\n",
              "---------------------------------------------------------------\n",
              "Intercept  -2.1487    0.2372  -9.0574  0.0000  -2.6137  -1.6838\n",
              "x           0.5104    0.0556   9.1790  0.0000   0.4014   0.6194\n",
              "==============================================================\n",
              "\n",
              "\"\"\""
            ]
          },
          "metadata": {
            "tags": []
          },
          "execution_count": 28
        }
      ]
    },
    {
      "cell_type": "code",
      "metadata": {
        "id": "iLvXS09pKHGn"
      },
      "source": [
        "β1 = -2.1487\n",
        "β2 = 0.5104"
      ],
      "execution_count": 30,
      "outputs": []
    },
    {
      "cell_type": "code",
      "metadata": {
        "id": "wYo0DFmBRIzj"
      },
      "source": [
        "x = np.linspace(2, 6, 10)\n",
        "y = sigmoid(x*β2 + β1)*8"
      ],
      "execution_count": 40,
      "outputs": []
    },
    {
      "cell_type": "code",
      "metadata": {
        "id": "8O3PjGcLQo0m",
        "outputId": "d7571c14-56ca-4ea4-a23f-e4287b9b95f6",
        "colab": {
          "base_uri": "https://localhost:8080/",
          "height": 279
        }
      },
      "source": [
        "plt.plot(x, y, \"r--\")\n",
        "sns.scatterplot(x='x2', y='y', data=data)\n",
        "\n",
        "plt.show()\n",
        "\n",
        "#　GLMではうまく扱えなそう"
      ],
      "execution_count": 43,
      "outputs": [
        {
          "output_type": "display_data",
          "data": {
            "image/png": "[encoded data removed]",
            "text/plain": [
              "<Figure size 432x288 with 1 Axes>"
            ]
          },
          "metadata": {
            "tags": [],
            "needs_background": "light"
          }
        }
      ]
    },
    {
      "cell_type": "code",
      "metadata": {
        "id": "vjuqDuQ7V9uM",
        "outputId": "7078ec86-fe0c-43ac-9595-a5263aab84bd",
        "colab": {
          "base_uri": "https://localhost:8080/",
          "height": 303
        }
      },
      "source": [
        "# x = 4の種子数の分布\n",
        "data_4 = data[data['x']==4]\n",
        "data_4 = data_4.groupby(by=\"y\").count().reset_index()\n",
        "data_4"
      ],
      "execution_count": 56,
      "outputs": [
        {
          "output_type": "execute_result",
          "data": {
            "text/html": [
              "<div>\n",
              "<style scoped>\n",
              "    .dataframe tbody tr th:only-of-type {\n",
              "        vertical-align: middle;\n",
              "    }\n",
              "\n",
              "    .dataframe tbody tr th {\n",
              "        vertical-align: top;\n",
              "    }\n",
              "\n",
              "    .dataframe thead th {\n",
              "        text-align: right;\n",
              "    }\n",
              "</style>\n",
              "<table border=\"1\" class=\"dataframe\">\n",
              "  <thead>\n",
              "    <tr style=\"text-align: right;\">\n",
              "      <th></th>\n",
              "      <th>y</th>\n",
              "      <th>N</th>\n",
              "      <th>x</th>\n",
              "      <th>id</th>\n",
              "      <th>x2</th>\n",
              "    </tr>\n",
              "  </thead>\n",
              "  <tbody>\n",
              "    <tr>\n",
              "      <th>0</th>\n",
              "      <td>0</td>\n",
              "      <td>3</td>\n",
              "      <td>3</td>\n",
              "      <td>3</td>\n",
              "      <td>3</td>\n",
              "    </tr>\n",
              "    <tr>\n",
              "      <th>1</th>\n",
              "      <td>1</td>\n",
              "      <td>1</td>\n",
              "      <td>1</td>\n",
              "      <td>1</td>\n",
              "      <td>1</td>\n",
              "    </tr>\n",
              "    <tr>\n",
              "      <th>2</th>\n",
              "      <td>2</td>\n",
              "      <td>4</td>\n",
              "      <td>4</td>\n",
              "      <td>4</td>\n",
              "      <td>4</td>\n",
              "    </tr>\n",
              "    <tr>\n",
              "      <th>3</th>\n",
              "      <td>3</td>\n",
              "      <td>2</td>\n",
              "      <td>2</td>\n",
              "      <td>2</td>\n",
              "      <td>2</td>\n",
              "    </tr>\n",
              "    <tr>\n",
              "      <th>4</th>\n",
              "      <td>4</td>\n",
              "      <td>1</td>\n",
              "      <td>1</td>\n",
              "      <td>1</td>\n",
              "      <td>1</td>\n",
              "    </tr>\n",
              "    <tr>\n",
              "      <th>5</th>\n",
              "      <td>5</td>\n",
              "      <td>1</td>\n",
              "      <td>1</td>\n",
              "      <td>1</td>\n",
              "      <td>1</td>\n",
              "    </tr>\n",
              "    <tr>\n",
              "      <th>6</th>\n",
              "      <td>6</td>\n",
              "      <td>2</td>\n",
              "      <td>2</td>\n",
              "      <td>2</td>\n",
              "      <td>2</td>\n",
              "    </tr>\n",
              "    <tr>\n",
              "      <th>7</th>\n",
              "      <td>7</td>\n",
              "      <td>3</td>\n",
              "      <td>3</td>\n",
              "      <td>3</td>\n",
              "      <td>3</td>\n",
              "    </tr>\n",
              "    <tr>\n",
              "      <th>8</th>\n",
              "      <td>8</td>\n",
              "      <td>3</td>\n",
              "      <td>3</td>\n",
              "      <td>3</td>\n",
              "      <td>3</td>\n",
              "    </tr>\n",
              "  </tbody>\n",
              "</table>\n",
              "</div>"
            ],
            "text/plain": [
              "   y  N  x  id  x2\n",
              "0  0  3  3   3   3\n",
              "1  1  1  1   1   1\n",
              "2  2  4  4   4   4\n",
              "3  3  2  2   2   2\n",
              "4  4  1  1   1   1\n",
              "5  5  1  1   1   1\n",
              "6  6  2  2   2   2\n",
              "7  7  3  3   3   3\n",
              "8  8  3  3   3   3"
            ]
          },
          "metadata": {
            "tags": []
          },
          "execution_count": 56
        }
      ]
    },
    {
      "cell_type": "code",
      "metadata": {
        "id": "vZSimlOBXvXV",
        "outputId": "e60c5a44-276b-4ec6-c2b9-12ac1027d851",
        "colab": {
          "base_uri": "https://localhost:8080/",
          "height": 283
        }
      },
      "source": [
        "sns.scatterplot(x='y', y='x', data=data_4)\n",
        "plt.ylim(0,6)\n",
        "plt.show()"
      ],
      "execution_count": 89,
      "outputs": [
        {
          "output_type": "display_data",
          "data": {
            "image/png": "[encoded data removed]",
            "text/plain": [
              "<Figure size 432x288 with 1 Axes>"
            ]
          },
          "metadata": {
            "tags": [],
            "needs_background": "light"
          }
        }
      ]
    },
    {
      "cell_type": "code",
      "metadata": {
        "id": "ARn9fKFvoBB_",
        "outputId": "c1515926-6b3e-4d87-fd4d-5ab1fbf02d75",
        "colab": {
          "base_uri": "https://localhost:8080/",
          "height": 283
        }
      },
      "source": [
        "x = range(9)\n",
        "#生存確率\n",
        "p = sigmoid(β1+β2*4)\n",
        "n = data_4.N.sum()\n",
        "binomial = stats.binom.pmf(x, 8, p)*n\n",
        "plt.plot(x, binomial, \"ro--\")\n",
        "\n",
        "sns.scatterplot(x='y', y='x', data=data_4)\n",
        "plt.ylim(0,6)\n",
        "plt.show()\n",
        "\n",
        "#　二項分布にしたがっているようには見えない"
      ],
      "execution_count": 94,
      "outputs": [
        {
          "output_type": "display_data",
          "data": {
            "image/png": "[encoded data removed]",
            "text/plain": [
              "<Figure size 432x288 with 1 Axes>"
            ]
          },
          "metadata": {
            "tags": [],
            "needs_background": "light"
          }
        }
      ]
    },
    {
      "cell_type": "markdown",
      "metadata": {
        "id": "qrFkIYLrwnsP"
      },
      "source": [
        "二項分布は、結果が2値であるベルヌーイの施行を独立にn回行った（上限がある）ときの確率変数をあらわす離散確率分布。"
      ]
    },
    {
      "cell_type": "markdown",
      "metadata": {
        "id": "PKFxFSOcUSn5"
      },
      "source": [
        "### 過分散と個体差"
      ]
    },
    {
      "cell_type": "markdown",
      "metadata": {
        "id": "I0zxqxIOr95Y"
      },
      "source": [
        "期待される分散よりも実際の分散が大きく、データのばらつきが大き過ぎること。全個体は均質であるという仮定のもと、一つの分布でデータを説明できると期待した結果、起こる。"
      ]
    },
    {
      "cell_type": "code",
      "metadata": {
        "id": "yopbhUZOsE7e",
        "outputId": "d8f0a960-5f76-48a4-c1b1-f7dd18afa1fe",
        "colab": {
          "base_uri": "https://localhost:8080/",
          "height": 34
        }
      },
      "source": [
        "# x=4における生存確率の平均\n",
        "data_4.y.mean()/8"
      ],
      "execution_count": 102,
      "outputs": [
        {
          "output_type": "execute_result",
          "data": {
            "text/plain": [
              "0.5"
            ]
          },
          "metadata": {
            "tags": []
          },
          "execution_count": 102
        }
      ]
    },
    {
      "cell_type": "code",
      "metadata": {
        "id": "1QumzVw2scB1",
        "outputId": "e065ebc7-2b38-4a17-98aa-44c1a67a62dd",
        "colab": {
          "base_uri": "https://localhost:8080/",
          "height": 34
        }
      },
      "source": [
        "# x=4における生存数yiの分散\n",
        "data_4.y.var()"
      ],
      "execution_count": 105,
      "outputs": [
        {
          "output_type": "execute_result",
          "data": {
            "text/plain": [
              "7.5"
            ]
          },
          "metadata": {
            "tags": []
          },
          "execution_count": 105
        }
      ]
    },
    {
      "cell_type": "code",
      "metadata": {
        "id": "I-tOd5nHt9lj",
        "outputId": "b22ae753-ab81-4190-c88b-4fda5b7d7fb6",
        "colab": {
          "base_uri": "https://localhost:8080/",
          "height": 34
        }
      },
      "source": [
        "#種子数yiが二項分布に従った場合の分散\n",
        "data_4.y.var()*0.5*(1-0.5)"
      ],
      "execution_count": 106,
      "outputs": [
        {
          "output_type": "execute_result",
          "data": {
            "text/plain": [
              "1.875"
            ]
          },
          "metadata": {
            "tags": []
          },
          "execution_count": 106
        }
      ]
    },
    {
      "cell_type": "markdown",
      "metadata": {
        "id": "g-od_9Amxp8q"
      },
      "source": [
        "観察されていない個体差を考慮する必要がある。"
      ]
    },
    {
      "cell_type": "markdown",
      "metadata": {
        "id": "rEUa62Y2yY6Z"
      },
      "source": [
        "### 一般化線形混合モデル\n",
        "個体iの個体差をあらわすパラメータ$r_i$の追加\n",
        "\n",
        "$$\n",
        "logit(q_i) = \\beta_1+\\beta_2 x_i + r_i\n",
        "$$"
      ]
    },
    {
      "cell_type": "code",
      "metadata": {
        "id": "PWZFwEJRxo2f",
        "outputId": "1fd5a047-e8e4-4162-ec1d-fc14a27ddf9a",
        "colab": {
          "base_uri": "https://localhost:8080/",
          "height": 265
        }
      },
      "source": [
        "x = np.linspace(2, 6)\n",
        "y1 = sigmoid(x*β2 + β1 + 0.6)\n",
        "y2 = sigmoid(x*β2 + β1 + 0.0)\n",
        "y3 = sigmoid(x*β2 + β1 - 0.6)\n",
        "\n",
        "plt.plot(x, y1, \"g-\", label=\"ri>0\")\n",
        "plt.plot(x, y2, \"r-\", label=\"ri=0\")\n",
        "plt.plot(x, y3, \"b-\", label=\"ri<0\")\n",
        "\n",
        "plt.legend()\n",
        "plt.show()"
      ],
      "execution_count": 124,
      "outputs": [
        {
          "output_type": "display_data",
          "data": {
            "image/png": "[encoded data removed]",
            "text/plain": [
              "<Figure size 432x288 with 1 Axes>"
            ]
          },
          "metadata": {
            "tags": [],
            "needs_background": "light"
          }
        }
      ]
    },
    {
      "cell_type": "markdown",
      "metadata": {
        "id": "8Olqwohe14Ur"
      },
      "source": [
        "「観測されていない個体差などない」と仮定しているGLMは、観察されたデータで個体差なし（$r_i=0$）と設定している。"
      ]
    },
    {
      "cell_type": "code",
      "metadata": {
        "id": "rtyMUs6h3hno",
        "outputId": "ff5e92b8-b5f3-4896-b2db-d7ff05184dbf",
        "colab": {
          "base_uri": "https://localhost:8080/",
          "height": 279
        }
      },
      "source": [
        "r = np.linspace(-6, 7, 1000)\n",
        "plt.plot(pd.Series(stats.norm.pdf(r, loc=0, scale=1.), index=r), 'g', label='s=1.0')\n",
        "plt.plot(pd.Series(stats.norm.pdf(r, loc=0, scale=1.5), index=r), 'r', label='s=1.5')\n",
        "plt.plot(pd.Series(stats.norm.pdf(r, loc=0, scale=3.0), index=r), 'b', label='s=3.0')\n",
        "plt.axvline(0, color='k', linestyle='dotted')\n",
        "plt.xlabel(\"Individual Difference [ri]\")\n",
        "plt.legend()\n",
        "plt.show()"
      ],
      "execution_count": 141,
      "outputs": [
        {
          "output_type": "display_data",
          "data": {
            "image/png": "[encoded data removed]",
            "text/plain": [
              "<Figure size 432x288 with 1 Axes>"
            ]
          },
          "metadata": {
            "tags": [],
            "needs_background": "light"
          }
        }
      ]
    },
    {
      "cell_type": "markdown",
      "metadata": {
        "id": "5d-72ImL5uwI"
      },
      "source": [
        "個体差のばらつきsが大きいほど、過分散がひどくなる。"
      ]
    },
    {
      "cell_type": "code",
      "metadata": {
        "id": "p9AsW-BV517y"
      },
      "source": [
        ""
      ],
      "execution_count": null,
      "outputs": []
    }
  ]
}